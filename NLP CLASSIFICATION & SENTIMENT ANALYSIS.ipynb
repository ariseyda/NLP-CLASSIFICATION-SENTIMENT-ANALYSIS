{
 "cells": [
  {
   "cell_type": "code",
   "execution_count": 131,
   "metadata": {},
   "outputs": [],
   "source": [
    "import pandas as pd\n",
    "import numpy as np\n",
    "import matplotlib.pyplot as plt\n",
    "%matplotlib inline\n",
    "import seaborn as sns\n",
    "\n",
    "from textblob import TextBlob\n",
    "#her kelime pozitif veya negatif bir değer alır\n",
    "\n",
    "#Dil tespit etmek için\n",
    "from langdetect import detect\n",
    "\n",
    "#Sentiment analiz yapmak için\n",
    "from nltk.sentiment.vader import SentimentIntensityAnalyzer\n",
    "\n",
    "import warnings\n",
    "warnings.filterwarnings('ignore')\n",
    "\n",
    "#Bulut resmi için\n",
    "import os\n",
    "from PIL import Image\n",
    "\n",
    "#NLP\n",
    "import nltk\n",
    "from nltk.stem.porter import PorterStemmer\n",
    "from nltk.stem import SnowballStemmer\n",
    "\n",
    "from nltk.corpus import stopwords\n",
    "from stop_words import get_stop_words\n",
    "import re\n",
    "#WordCloud\n",
    "from wordcloud import WordCloud,STOPWORDS\n",
    "\n",
    "#Machine learning\n",
    "from sklearn.feature_extraction.text import CountVectorizer,TfidfVectorizer\n",
    "from sklearn.model_selection import train_test_split\n",
    "from sklearn.naive_bayes import MultinomialNB\n",
    "from sklearn.metrics import classification_report,accuracy_score,confusion_matrix,precision_score,recall_score,f1_score\n",
    "\n",
    "\n",
    "from sklearn.naive_bayes import GaussianNB\n",
    "from sklearn.naive_bayes import BernoulliNB\n",
    "from sklearn.neighbors import KNeighborsClassifier\n",
    "from sklearn.svm import SVC\n",
    "from sklearn.tree import DecisionTreeClassifier\n",
    "from sklearn.linear_model import LogisticRegression\n",
    "from sklearn.ensemble import GradientBoostingClassifier\n",
    "from sklearn.ensemble import AdaBoostClassifier\n",
    "from xgboost import XGBClassifier\n",
    "from sklearn.ensemble import RandomForestClassifier\n",
    "\n",
    "from sklearn.metrics import confusion_matrix,classification_report"
   ]
  },
  {
   "cell_type": "code",
   "execution_count": 3,
   "metadata": {},
   "outputs": [
    {
     "name": "stdout",
     "output_type": "stream",
     "text": [
      "Requirement already satisfied: nltk in c:\\users\\arise\\anaconda3\\lib\\site-packages (3.5)\n",
      "Requirement already satisfied: click in c:\\users\\arise\\anaconda3\\lib\\site-packages (from nltk) (7.1.2)\n",
      "Requirement already satisfied: joblib in c:\\users\\arise\\anaconda3\\lib\\site-packages (from nltk) (0.17.0)\n",
      "Requirement already satisfied: regex in c:\\users\\arise\\anaconda3\\lib\\site-packages (from nltk) (2020.10.15)\n",
      "Requirement already satisfied: tqdm in c:\\users\\arise\\anaconda3\\lib\\site-packages (from nltk) (4.50.2)\n"
     ]
    }
   ],
   "source": [
    "!pip install nltk"
   ]
  },
  {
   "cell_type": "markdown",
   "metadata": {},
   "source": [
    "- nltk : Natural language tool kit"
   ]
  },
  {
   "cell_type": "code",
   "execution_count": 4,
   "metadata": {},
   "outputs": [],
   "source": [
    "import nltk\n",
    "from nltk.tokenize import sent_tokenize"
   ]
  },
  {
   "cell_type": "markdown",
   "metadata": {},
   "source": [
    "- tokenize: parçalara ayırmaya yarar.\n",
    "- sent_tokenize: Bir paragrafı cümlelerine ayırır ve bunları bir dizi haline getirir.Bir kitabıda versen cümlelerine ayırır.(sentences tokenize)\n",
    "- word_tokenize: Bir cümledeki tüm kelimeleri ayırı ve bir listeye çevirir."
   ]
  },
  {
   "cell_type": "markdown",
   "metadata": {},
   "source": [
    "  - from nltk.tokenize import TreeBankWordTokenizer\n",
    "  - t=TreeBankWordTokenizer()\n",
    "  - t.tokenize('.....')\n",
    "    - word_tokenizer ile aynı işlemi yapar.Bir cümleyi kelimelerine ayırıp listeye atar.\n",
    "    - NOT: Yeni cümleyi anlaması için . koyman ve bir boşluk bırakıp büyük harf ile başlaman gerekir."
   ]
  },
  {
   "cell_type": "code",
   "execution_count": 5,
   "metadata": {},
   "outputs": [
    {
     "name": "stderr",
     "output_type": "stream",
     "text": [
      "[nltk_data] Downloading package punkt to\n",
      "[nltk_data]     C:\\Users\\arise\\AppData\\Roaming\\nltk_data...\n",
      "[nltk_data]   Package punkt is already up-to-date!\n"
     ]
    },
    {
     "data": {
      "text/plain": [
       "True"
      ]
     },
     "execution_count": 5,
     "metadata": {},
     "output_type": "execute_result"
    }
   ],
   "source": [
    "nltk.download('punkt')"
   ]
  },
  {
   "cell_type": "code",
   "execution_count": 6,
   "metadata": {},
   "outputs": [
    {
     "name": "stderr",
     "output_type": "stream",
     "text": [
      "[nltk_data] Downloading package wordnet to\n",
      "[nltk_data]     C:\\Users\\arise\\AppData\\Roaming\\nltk_data...\n",
      "[nltk_data]   Package wordnet is already up-to-date!\n"
     ]
    },
    {
     "data": {
      "text/plain": [
       "True"
      ]
     },
     "execution_count": 6,
     "metadata": {},
     "output_type": "execute_result"
    }
   ],
   "source": [
    "nltk.download('wordnet')"
   ]
  },
  {
   "cell_type": "markdown",
   "metadata": {},
   "source": [
    "- nltk de çok fazla paket olduğundan sadece ihtiyacımız olanları indireceğiz."
   ]
  },
  {
   "cell_type": "code",
   "execution_count": 7,
   "metadata": {},
   "outputs": [
    {
     "name": "stderr",
     "output_type": "stream",
     "text": [
      "[nltk_data] Downloading package stopwords to\n",
      "[nltk_data]     C:\\Users\\arise\\AppData\\Roaming\\nltk_data...\n",
      "[nltk_data]   Package stopwords is already up-to-date!\n"
     ]
    },
    {
     "data": {
      "text/plain": [
       "True"
      ]
     },
     "execution_count": 7,
     "metadata": {},
     "output_type": "execute_result"
    }
   ],
   "source": [
    "nltk.download('stopwords')"
   ]
  },
  {
   "cell_type": "markdown",
   "metadata": {},
   "source": [
    "- stopwords: Dildeki gereksiz kelimelerdir.Mesela konuşmacının cümle sonunda anladın mı?/eeee gibi sıklıkla kullandığı kelimeler gibi."
   ]
  },
  {
   "cell_type": "code",
   "execution_count": 8,
   "metadata": {},
   "outputs": [
    {
     "name": "stdout",
     "output_type": "stream",
     "text": [
      "['i', 'me', 'my', 'myself', 'we', 'our', 'ours', 'ourselves', 'you', \"you're\", \"you've\", \"you'll\", \"you'd\", 'your', 'yours', 'yourself', 'yourselves', 'he', 'him', 'his', 'himself', 'she', \"she's\", 'her', 'hers', 'herself', 'it', \"it's\", 'its', 'itself', 'they', 'them', 'their', 'theirs', 'themselves', 'what', 'which', 'who', 'whom', 'this', 'that', \"that'll\", 'these', 'those', 'am', 'is', 'are', 'was', 'were', 'be', 'been', 'being', 'have', 'has', 'had', 'having', 'do', 'does', 'did', 'doing', 'a', 'an', 'the', 'and', 'but', 'if', 'or', 'because', 'as', 'until', 'while', 'of', 'at', 'by', 'for', 'with', 'about', 'against', 'between', 'into', 'through', 'during', 'before', 'after', 'above', 'below', 'to', 'from', 'up', 'down', 'in', 'out', 'on', 'off', 'over', 'under', 'again', 'further', 'then', 'once', 'here', 'there', 'when', 'where', 'why', 'how', 'all', 'any', 'both', 'each', 'few', 'more', 'most', 'other', 'some', 'such', 'no', 'nor', 'not', 'only', 'own', 'same', 'so', 'than', 'too', 'very', 's', 't', 'can', 'will', 'just', 'don', \"don't\", 'should', \"should've\", 'now', 'd', 'll', 'm', 'o', 're', 've', 'y', 'ain', 'aren', \"aren't\", 'couldn', \"couldn't\", 'didn', \"didn't\", 'doesn', \"doesn't\", 'hadn', \"hadn't\", 'hasn', \"hasn't\", 'haven', \"haven't\", 'isn', \"isn't\", 'ma', 'mightn', \"mightn't\", 'mustn', \"mustn't\", 'needn', \"needn't\", 'shan', \"shan't\", 'shouldn', \"shouldn't\", 'wasn', \"wasn't\", 'weren', \"weren't\", 'won', \"won't\", 'wouldn', \"wouldn't\"]\n"
     ]
    }
   ],
   "source": [
    "print(nltk.corpus.stopwords.words('english'))"
   ]
  },
  {
   "cell_type": "markdown",
   "metadata": {},
   "source": [
    "- Stopwords demişken bu kod ile ingilizcedeki gereksiz kelimeleri yazdırır.Gelin bir de türkçede ki gereksiz kelimelere bakalım."
   ]
  },
  {
   "cell_type": "code",
   "execution_count": 9,
   "metadata": {},
   "outputs": [
    {
     "name": "stdout",
     "output_type": "stream",
     "text": [
      "['acaba', 'ama', 'aslında', 'az', 'bazı', 'belki', 'biri', 'birkaç', 'birşey', 'biz', 'bu', 'çok', 'çünkü', 'da', 'daha', 'de', 'defa', 'diye', 'eğer', 'en', 'gibi', 'hem', 'hep', 'hepsi', 'her', 'hiç', 'için', 'ile', 'ise', 'kez', 'ki', 'kim', 'mı', 'mu', 'mü', 'nasıl', 'ne', 'neden', 'nerde', 'nerede', 'nereye', 'niçin', 'niye', 'o', 'sanki', 'şey', 'siz', 'şu', 'tüm', 've', 'veya', 'ya', 'yani']\n"
     ]
    }
   ],
   "source": [
    "print(nltk.corpus.stopwords.words('turkish'))"
   ]
  },
  {
   "cell_type": "markdown",
   "metadata": {},
   "source": [
    "- Stemmer: Kelimedeki ekleri atmaya yarar.\n",
    "- Lemmatizer: Kelimenin kökünü bulmaya yarar."
   ]
  },
  {
   "cell_type": "markdown",
   "metadata": {},
   "source": [
    "- NLP de bütün kelimeleri 1 lere veya 0 lara çeviriyoruz.Dummie variable da yaptığımız şeyi daha profesyonel bir şekilde yapıyoruz.Her kelimeyi vektör olarak kabul ediyor ve ona çokboyutlu uzayda bir yer belirliyor."
   ]
  },
  {
   "cell_type": "code",
   "execution_count": 10,
   "metadata": {},
   "outputs": [],
   "source": [
    "df=pd.read_csv('restaurant.csv')"
   ]
  },
  {
   "cell_type": "code",
   "execution_count": 11,
   "metadata": {},
   "outputs": [
    {
     "data": {
      "text/html": [
       "<div>\n",
       "<style scoped>\n",
       "    .dataframe tbody tr th:only-of-type {\n",
       "        vertical-align: middle;\n",
       "    }\n",
       "\n",
       "    .dataframe tbody tr th {\n",
       "        vertical-align: top;\n",
       "    }\n",
       "\n",
       "    .dataframe thead th {\n",
       "        text-align: right;\n",
       "    }\n",
       "</style>\n",
       "<table border=\"1\" class=\"dataframe\">\n",
       "  <thead>\n",
       "    <tr style=\"text-align: right;\">\n",
       "      <th></th>\n",
       "      <th>Unnamed: 0</th>\n",
       "      <th>review_id</th>\n",
       "      <th>user_id</th>\n",
       "      <th>business_id</th>\n",
       "      <th>stars</th>\n",
       "      <th>useful</th>\n",
       "      <th>funny</th>\n",
       "      <th>cool</th>\n",
       "      <th>text</th>\n",
       "      <th>date</th>\n",
       "    </tr>\n",
       "  </thead>\n",
       "  <tbody>\n",
       "    <tr>\n",
       "      <th>0</th>\n",
       "      <td>2370338</td>\n",
       "      <td>_WTGv5XnA-qb_XD1D7Z0jg</td>\n",
       "      <td>6PgdGb3HrZdsfl2GiULo8w</td>\n",
       "      <td>RESDUcs7fIiihp38-d6_6g</td>\n",
       "      <td>5</td>\n",
       "      <td>0</td>\n",
       "      <td>1</td>\n",
       "      <td>0</td>\n",
       "      <td>After getting food poisoning at the Palms hote...</td>\n",
       "      <td>2012-12-04 03:10:18</td>\n",
       "    </tr>\n",
       "    <tr>\n",
       "      <th>1</th>\n",
       "      <td>2370357</td>\n",
       "      <td>JlNnsvMPLK_1-X2hwzK24w</td>\n",
       "      <td>IS9yw8P2uAPBX6FNLLX4KA</td>\n",
       "      <td>RESDUcs7fIiihp38-d6_6g</td>\n",
       "      <td>4</td>\n",
       "      <td>39</td>\n",
       "      <td>21</td>\n",
       "      <td>29</td>\n",
       "      <td>\"A feast worthy of Gods\"\\n\\nBaccarnal Buffet i...</td>\n",
       "      <td>2014-01-17 00:50:50</td>\n",
       "    </tr>\n",
       "    <tr>\n",
       "      <th>2</th>\n",
       "      <td>2370373</td>\n",
       "      <td>hBkoWffORRb6aqKhC_Li2A</td>\n",
       "      <td>uZdFsE_aHbFBChgN6Xa8tw</td>\n",
       "      <td>RESDUcs7fIiihp38-d6_6g</td>\n",
       "      <td>4</td>\n",
       "      <td>1</td>\n",
       "      <td>1</td>\n",
       "      <td>1</td>\n",
       "      <td>The crab legs are better than the ones at Wick...</td>\n",
       "      <td>2015-06-08 18:03:09</td>\n",
       "    </tr>\n",
       "    <tr>\n",
       "      <th>3</th>\n",
       "      <td>2370411</td>\n",
       "      <td>rbkxvrgZg5kdCL2a66QYmA</td>\n",
       "      <td>8ZWJNAEWsymXDzKx3B0tTQ</td>\n",
       "      <td>RESDUcs7fIiihp38-d6_6g</td>\n",
       "      <td>1</td>\n",
       "      <td>0</td>\n",
       "      <td>0</td>\n",
       "      <td>0</td>\n",
       "      <td>Not worth it! Too salty food and expensive! Th...</td>\n",
       "      <td>2016-12-19 16:15:29</td>\n",
       "    </tr>\n",
       "    <tr>\n",
       "      <th>4</th>\n",
       "      <td>2370500</td>\n",
       "      <td>5tw_pedoHVi9bgeiBNsISg</td>\n",
       "      <td>E0sm4Ve7ifanFYeQMcV8Eg</td>\n",
       "      <td>RESDUcs7fIiihp38-d6_6g</td>\n",
       "      <td>5</td>\n",
       "      <td>0</td>\n",
       "      <td>0</td>\n",
       "      <td>0</td>\n",
       "      <td>I would give this infinite stars if I could. M...</td>\n",
       "      <td>2015-07-28 07:13:17</td>\n",
       "    </tr>\n",
       "    <tr>\n",
       "      <th>...</th>\n",
       "      <td>...</td>\n",
       "      <td>...</td>\n",
       "      <td>...</td>\n",
       "      <td>...</td>\n",
       "      <td>...</td>\n",
       "      <td>...</td>\n",
       "      <td>...</td>\n",
       "      <td>...</td>\n",
       "      <td>...</td>\n",
       "      <td>...</td>\n",
       "    </tr>\n",
       "    <tr>\n",
       "      <th>10412</th>\n",
       "      <td>3220114</td>\n",
       "      <td>46xWDTFPZI9u6waHm78EKw</td>\n",
       "      <td>CT57mpNepL9q9sTYFqRbLQ</td>\n",
       "      <td>RESDUcs7fIiihp38-d6_6g</td>\n",
       "      <td>5</td>\n",
       "      <td>0</td>\n",
       "      <td>0</td>\n",
       "      <td>0</td>\n",
       "      <td>Best buffet ever! Irma was great, served us be...</td>\n",
       "      <td>2019-11-17 20:39:36</td>\n",
       "    </tr>\n",
       "    <tr>\n",
       "      <th>10413</th>\n",
       "      <td>3220152</td>\n",
       "      <td>gbBau-2wy3_kNr2y6dEa1Q</td>\n",
       "      <td>c-j3TV1F8rI6bQUD6nqGPQ</td>\n",
       "      <td>RESDUcs7fIiihp38-d6_6g</td>\n",
       "      <td>4</td>\n",
       "      <td>3</td>\n",
       "      <td>0</td>\n",
       "      <td>3</td>\n",
       "      <td>Hollllllyyyy moleyyyy! \\n\\nThis buffet was one...</td>\n",
       "      <td>2019-11-12 02:23:07</td>\n",
       "    </tr>\n",
       "    <tr>\n",
       "      <th>10414</th>\n",
       "      <td>3220255</td>\n",
       "      <td>2wFmrsm8j1cyyG-DoMqKUw</td>\n",
       "      <td>kbylx63ynkXL8YBJzVfNnQ</td>\n",
       "      <td>RESDUcs7fIiihp38-d6_6g</td>\n",
       "      <td>5</td>\n",
       "      <td>0</td>\n",
       "      <td>0</td>\n",
       "      <td>0</td>\n",
       "      <td>The selection is amazing and all the food is e...</td>\n",
       "      <td>2019-12-12 03:27:22</td>\n",
       "    </tr>\n",
       "    <tr>\n",
       "      <th>10415</th>\n",
       "      <td>3220306</td>\n",
       "      <td>75nzyA96_BgVrpflweAA3w</td>\n",
       "      <td>6rEG-G4syq5IvWti4tyPXA</td>\n",
       "      <td>RESDUcs7fIiihp38-d6_6g</td>\n",
       "      <td>4</td>\n",
       "      <td>1</td>\n",
       "      <td>1</td>\n",
       "      <td>2</td>\n",
       "      <td>One of the best buffets I've had in Vegas. My ...</td>\n",
       "      <td>2019-11-01 21:00:51</td>\n",
       "    </tr>\n",
       "    <tr>\n",
       "      <th>10416</th>\n",
       "      <td>3220316</td>\n",
       "      <td>mMa_YQNBJfuh_Nw_x81jlw</td>\n",
       "      <td>GsALS1y9wJoBRJTEzJiISg</td>\n",
       "      <td>RESDUcs7fIiihp38-d6_6g</td>\n",
       "      <td>4</td>\n",
       "      <td>1</td>\n",
       "      <td>1</td>\n",
       "      <td>1</td>\n",
       "      <td>I got a chance to go to the Bacchanal Buffett ...</td>\n",
       "      <td>2019-11-30 22:36:56</td>\n",
       "    </tr>\n",
       "  </tbody>\n",
       "</table>\n",
       "<p>10417 rows × 10 columns</p>\n",
       "</div>"
      ],
      "text/plain": [
       "       Unnamed: 0               review_id                 user_id  \\\n",
       "0         2370338  _WTGv5XnA-qb_XD1D7Z0jg  6PgdGb3HrZdsfl2GiULo8w   \n",
       "1         2370357  JlNnsvMPLK_1-X2hwzK24w  IS9yw8P2uAPBX6FNLLX4KA   \n",
       "2         2370373  hBkoWffORRb6aqKhC_Li2A  uZdFsE_aHbFBChgN6Xa8tw   \n",
       "3         2370411  rbkxvrgZg5kdCL2a66QYmA  8ZWJNAEWsymXDzKx3B0tTQ   \n",
       "4         2370500  5tw_pedoHVi9bgeiBNsISg  E0sm4Ve7ifanFYeQMcV8Eg   \n",
       "...           ...                     ...                     ...   \n",
       "10412     3220114  46xWDTFPZI9u6waHm78EKw  CT57mpNepL9q9sTYFqRbLQ   \n",
       "10413     3220152  gbBau-2wy3_kNr2y6dEa1Q  c-j3TV1F8rI6bQUD6nqGPQ   \n",
       "10414     3220255  2wFmrsm8j1cyyG-DoMqKUw  kbylx63ynkXL8YBJzVfNnQ   \n",
       "10415     3220306  75nzyA96_BgVrpflweAA3w  6rEG-G4syq5IvWti4tyPXA   \n",
       "10416     3220316  mMa_YQNBJfuh_Nw_x81jlw  GsALS1y9wJoBRJTEzJiISg   \n",
       "\n",
       "                  business_id  stars  useful  funny  cool  \\\n",
       "0      RESDUcs7fIiihp38-d6_6g      5       0      1     0   \n",
       "1      RESDUcs7fIiihp38-d6_6g      4      39     21    29   \n",
       "2      RESDUcs7fIiihp38-d6_6g      4       1      1     1   \n",
       "3      RESDUcs7fIiihp38-d6_6g      1       0      0     0   \n",
       "4      RESDUcs7fIiihp38-d6_6g      5       0      0     0   \n",
       "...                       ...    ...     ...    ...   ...   \n",
       "10412  RESDUcs7fIiihp38-d6_6g      5       0      0     0   \n",
       "10413  RESDUcs7fIiihp38-d6_6g      4       3      0     3   \n",
       "10414  RESDUcs7fIiihp38-d6_6g      5       0      0     0   \n",
       "10415  RESDUcs7fIiihp38-d6_6g      4       1      1     2   \n",
       "10416  RESDUcs7fIiihp38-d6_6g      4       1      1     1   \n",
       "\n",
       "                                                    text                 date  \n",
       "0      After getting food poisoning at the Palms hote...  2012-12-04 03:10:18  \n",
       "1      \"A feast worthy of Gods\"\\n\\nBaccarnal Buffet i...  2014-01-17 00:50:50  \n",
       "2      The crab legs are better than the ones at Wick...  2015-06-08 18:03:09  \n",
       "3      Not worth it! Too salty food and expensive! Th...  2016-12-19 16:15:29  \n",
       "4      I would give this infinite stars if I could. M...  2015-07-28 07:13:17  \n",
       "...                                                  ...                  ...  \n",
       "10412  Best buffet ever! Irma was great, served us be...  2019-11-17 20:39:36  \n",
       "10413  Hollllllyyyy moleyyyy! \\n\\nThis buffet was one...  2019-11-12 02:23:07  \n",
       "10414  The selection is amazing and all the food is e...  2019-12-12 03:27:22  \n",
       "10415  One of the best buffets I've had in Vegas. My ...  2019-11-01 21:00:51  \n",
       "10416  I got a chance to go to the Bacchanal Buffett ...  2019-11-30 22:36:56  \n",
       "\n",
       "[10417 rows x 10 columns]"
      ]
     },
     "execution_count": 11,
     "metadata": {},
     "output_type": "execute_result"
    }
   ],
   "source": [
    "df"
   ]
  },
  {
   "cell_type": "code",
   "execution_count": 12,
   "metadata": {},
   "outputs": [
    {
     "data": {
      "image/png": "[encoded data removed]",
      "text/plain": [
       "<Figure size 720x720 with 1 Axes>"
      ]
     },
     "metadata": {
      "needs_background": "light"
     },
     "output_type": "display_data"
    }
   ],
   "source": [
    "plt.figure(figsize=(10,10))\n",
    "sns.countplot(df['stars']);"
   ]
  },
  {
   "cell_type": "code",
   "execution_count": 13,
   "metadata": {},
   "outputs": [
    {
     "name": "stdout",
     "output_type": "stream",
     "text": [
      "<class 'pandas.core.frame.DataFrame'>\n",
      "RangeIndex: 10417 entries, 0 to 10416\n",
      "Data columns (total 10 columns):\n",
      " #   Column       Non-Null Count  Dtype \n",
      "---  ------       --------------  ----- \n",
      " 0   Unnamed: 0   10417 non-null  int64 \n",
      " 1   review_id    10417 non-null  object\n",
      " 2   user_id      10417 non-null  object\n",
      " 3   business_id  10417 non-null  object\n",
      " 4   stars        10417 non-null  int64 \n",
      " 5   useful       10417 non-null  int64 \n",
      " 6   funny        10417 non-null  int64 \n",
      " 7   cool         10417 non-null  int64 \n",
      " 8   text         10417 non-null  object\n",
      " 9   date         10417 non-null  object\n",
      "dtypes: int64(5), object(5)\n",
      "memory usage: 814.0+ KB\n"
     ]
    }
   ],
   "source": [
    "df.info()"
   ]
  },
  {
   "cell_type": "markdown",
   "metadata": {},
   "source": [
    "### Cleaning the data"
   ]
  },
  {
   "cell_type": "markdown",
   "metadata": {},
   "source": [
    "#### Common data cleaning steps on all text:\n",
    "\n",
    "- Make text all lower case\n",
    "- Remove punctuation\n",
    "- Remove numerical values\n",
    "- Tokenize text\n",
    "- Remove stop words\n",
    "\n",
    "#### More data cleaning steps after tokenization:\n",
    "\n",
    "- Stemming/lemmatization\n",
    "- Parts of speech tagging\n",
    "- Create bi-grams or tri-grams\n",
    "- Deal with typos(correct to wrong words)\n",
    "- And more.."
   ]
  },
  {
   "cell_type": "markdown",
   "metadata": {},
   "source": [
    "### NLP projesi adımları\n",
    "- 1-Bütün cümleler küçük harfe çevirilir\n",
    "- 2-Noktalama işaretleri kaldırılır.\n",
    "- 3-Rakamları kaldır.\n",
    "- 4-Satır sonu,\\n enter a basılmışsa \\r\n",
    "  - Sen yazı yazarken enter a basarsan orada senin görmediğin \\r koyar bilgisayar \n",
    "- 5-stop words(gereksiz kelimeler) leri kaldır.(am/is/are gibi)\n",
    "- 6-Tokenize işlemi yapıyoruz\n",
    "- 7-Lemma ve stemma uygula(ekleri kaldırıp kökleri buluyoruz)\n",
    "- 8-vectorizer ile yazıları rakama atıyoruz(dummie_variables gibi)\n",
    "- 9-Sentimant analizimize başlayabiliriz\n",
    "  - Yazılan şey olumlu mu olumsuz mu nötr mü bakacağız(3 seçenek olduğundan MultinominalNB ile bakacağız)"
   ]
  },
  {
   "cell_type": "markdown",
   "metadata": {},
   "source": [
    "- Removing Characters\n",
    "  - numbers (1-9)\n",
    "  - punctuation ()\n",
    "  - new line (\\n)\n",
    "  - Convert Lower Case"
   ]
  },
  {
   "cell_type": "code",
   "execution_count": 14,
   "metadata": {},
   "outputs": [],
   "source": [
    "df['text']=df['text'].str.lower()"
   ]
  },
  {
   "cell_type": "markdown",
   "metadata": {},
   "source": [
    "- Tüm kelimeler küçük harfe çevrildi."
   ]
  },
  {
   "cell_type": "code",
   "execution_count": 15,
   "metadata": {},
   "outputs": [],
   "source": [
    "df['text']=df['text'].str.replace('[^\\w\\s]','')"
   ]
  },
  {
   "cell_type": "markdown",
   "metadata": {},
   "source": [
    "- Noktalama işratelerini kaldırdık.\n",
    "- replace ile bu noktalama işartelerini hiçlikle değiştirdik.\n",
    "- Not: \"str.\" eklemeyi unutursan veriyi düzgün şekilde temizlemez."
   ]
  },
  {
   "cell_type": "code",
   "execution_count": 16,
   "metadata": {},
   "outputs": [],
   "source": [
    "df['text']=df['text'].str.replace('\\d+','')"
   ]
  },
  {
   "cell_type": "markdown",
   "metadata": {},
   "source": [
    "- Digit yani rakamları kaldırdık."
   ]
  },
  {
   "cell_type": "code",
   "execution_count": 17,
   "metadata": {},
   "outputs": [],
   "source": [
    "df['text']=df['text'].str.replace('\\n',' ').replace('\\r','')"
   ]
  },
  {
   "cell_type": "markdown",
   "metadata": {},
   "source": [
    "- '\\n',' ' burada boşluk var çünkü alt satıra geçmiş yan yana yazmasın diye(n:new line)\n",
    "- r de enter olduğu için paragraf zaten bitmiş anlamına gelir(r:enter a basılmış)\n",
    "- Satır sonu işaretleri kaldırılır(n yeni satır demek r enter a basılmış demek)"
   ]
  },
  {
   "cell_type": "code",
   "execution_count": 18,
   "metadata": {},
   "outputs": [],
   "source": [
    "df.loc[(df['stars']==1)|(df['stars']==2),'sentiment']='negative'\n",
    "df.loc[(df['stars']==3),'sentiment']='neutral'\n",
    "df.loc[(df['stars']==4)|(df['stars']==5),'sentiment']='positive'"
   ]
  },
  {
   "cell_type": "markdown",
   "metadata": {},
   "source": [
    "- Adding Sentiment Features\n",
    "  - 1,2 —> Negative\n",
    "  - 3 —> Neutral\n",
    "  - 4,5 —> Positive"
   ]
  },
  {
   "cell_type": "markdown",
   "metadata": {},
   "source": [
    "- Bir kişi restoranı puanlarken 4 veya 5 puan verdiyse o kişinin olumlu bir yorum yaptığını,1 veya 2 puan vermişse olumsuz bir yorum yaptığını,3 puan verdiyse nötr bir yorum yaptığını varsayıyoruz."
   ]
  },
  {
   "cell_type": "code",
   "execution_count": 19,
   "metadata": {},
   "outputs": [
    {
     "data": {
      "text/html": [
       "<div>\n",
       "<style scoped>\n",
       "    .dataframe tbody tr th:only-of-type {\n",
       "        vertical-align: middle;\n",
       "    }\n",
       "\n",
       "    .dataframe tbody tr th {\n",
       "        vertical-align: top;\n",
       "    }\n",
       "\n",
       "    .dataframe thead th {\n",
       "        text-align: right;\n",
       "    }\n",
       "</style>\n",
       "<table border=\"1\" class=\"dataframe\">\n",
       "  <thead>\n",
       "    <tr style=\"text-align: right;\">\n",
       "      <th></th>\n",
       "      <th>stars</th>\n",
       "      <th>sentiment</th>\n",
       "      <th>text</th>\n",
       "    </tr>\n",
       "  </thead>\n",
       "  <tbody>\n",
       "    <tr>\n",
       "      <th>0</th>\n",
       "      <td>5</td>\n",
       "      <td>positive</td>\n",
       "      <td>after getting food poisoning at the palms hote...</td>\n",
       "    </tr>\n",
       "    <tr>\n",
       "      <th>1</th>\n",
       "      <td>4</td>\n",
       "      <td>positive</td>\n",
       "      <td>a feast worthy of gods  baccarnal buffet in ca...</td>\n",
       "    </tr>\n",
       "    <tr>\n",
       "      <th>2</th>\n",
       "      <td>4</td>\n",
       "      <td>positive</td>\n",
       "      <td>the crab legs are better than the ones at wick...</td>\n",
       "    </tr>\n",
       "    <tr>\n",
       "      <th>3</th>\n",
       "      <td>1</td>\n",
       "      <td>negative</td>\n",
       "      <td>not worth it too salty food and expensive this...</td>\n",
       "    </tr>\n",
       "    <tr>\n",
       "      <th>4</th>\n",
       "      <td>5</td>\n",
       "      <td>positive</td>\n",
       "      <td>i would give this infinite stars if i could my...</td>\n",
       "    </tr>\n",
       "    <tr>\n",
       "      <th>...</th>\n",
       "      <td>...</td>\n",
       "      <td>...</td>\n",
       "      <td>...</td>\n",
       "    </tr>\n",
       "    <tr>\n",
       "      <th>10412</th>\n",
       "      <td>5</td>\n",
       "      <td>positive</td>\n",
       "      <td>best buffet ever irma was great served us bett...</td>\n",
       "    </tr>\n",
       "    <tr>\n",
       "      <th>10413</th>\n",
       "      <td>4</td>\n",
       "      <td>positive</td>\n",
       "      <td>hollllllyyyy moleyyyy   this buffet was one fo...</td>\n",
       "    </tr>\n",
       "    <tr>\n",
       "      <th>10414</th>\n",
       "      <td>5</td>\n",
       "      <td>positive</td>\n",
       "      <td>the selection is amazing and all the food is e...</td>\n",
       "    </tr>\n",
       "    <tr>\n",
       "      <th>10415</th>\n",
       "      <td>4</td>\n",
       "      <td>positive</td>\n",
       "      <td>one of the best buffets ive had in vegas my on...</td>\n",
       "    </tr>\n",
       "    <tr>\n",
       "      <th>10416</th>\n",
       "      <td>4</td>\n",
       "      <td>positive</td>\n",
       "      <td>i got a chance to go to the bacchanal buffett ...</td>\n",
       "    </tr>\n",
       "  </tbody>\n",
       "</table>\n",
       "<p>10417 rows × 3 columns</p>\n",
       "</div>"
      ],
      "text/plain": [
       "       stars sentiment                                               text\n",
       "0          5  positive  after getting food poisoning at the palms hote...\n",
       "1          4  positive  a feast worthy of gods  baccarnal buffet in ca...\n",
       "2          4  positive  the crab legs are better than the ones at wick...\n",
       "3          1  negative  not worth it too salty food and expensive this...\n",
       "4          5  positive  i would give this infinite stars if i could my...\n",
       "...      ...       ...                                                ...\n",
       "10412      5  positive  best buffet ever irma was great served us bett...\n",
       "10413      4  positive  hollllllyyyy moleyyyy   this buffet was one fo...\n",
       "10414      5  positive  the selection is amazing and all the food is e...\n",
       "10415      4  positive  one of the best buffets ive had in vegas my on...\n",
       "10416      4  positive  i got a chance to go to the bacchanal buffett ...\n",
       "\n",
       "[10417 rows x 3 columns]"
      ]
     },
     "execution_count": 19,
     "metadata": {},
     "output_type": "execute_result"
    }
   ],
   "source": [
    "df=df[['stars','sentiment','text']]\n",
    "df"
   ]
  },
  {
   "cell_type": "markdown",
   "metadata": {},
   "source": [
    "- Detecting Language\n",
    "  - Removing non English"
   ]
  },
  {
   "cell_type": "markdown",
   "metadata": {},
   "source": [
    "- İngilizce olmayan yorumları atacağım.Bu işlem için future engineering ile yeni bir sütun açıyorum ve dili tespit ediyorum(detect ile).Ve sadece ingilizce yorumları bu sütuna eşitliyorum."
   ]
  },
  {
   "cell_type": "code",
   "execution_count": 20,
   "metadata": {},
   "outputs": [],
   "source": [
    "df['language']=df['text'].apply(detect)\n",
    "df=df[df['language']=='en']"
   ]
  },
  {
   "cell_type": "code",
   "execution_count": 21,
   "metadata": {},
   "outputs": [
    {
     "data": {
      "text/html": [
       "<div>\n",
       "<style scoped>\n",
       "    .dataframe tbody tr th:only-of-type {\n",
       "        vertical-align: middle;\n",
       "    }\n",
       "\n",
       "    .dataframe tbody tr th {\n",
       "        vertical-align: top;\n",
       "    }\n",
       "\n",
       "    .dataframe thead th {\n",
       "        text-align: right;\n",
       "    }\n",
       "</style>\n",
       "<table border=\"1\" class=\"dataframe\">\n",
       "  <thead>\n",
       "    <tr style=\"text-align: right;\">\n",
       "      <th></th>\n",
       "      <th>stars</th>\n",
       "      <th>sentiment</th>\n",
       "      <th>text</th>\n",
       "      <th>language</th>\n",
       "    </tr>\n",
       "  </thead>\n",
       "  <tbody>\n",
       "    <tr>\n",
       "      <th>0</th>\n",
       "      <td>5</td>\n",
       "      <td>positive</td>\n",
       "      <td>after getting food poisoning at the palms hote...</td>\n",
       "      <td>en</td>\n",
       "    </tr>\n",
       "    <tr>\n",
       "      <th>1</th>\n",
       "      <td>4</td>\n",
       "      <td>positive</td>\n",
       "      <td>a feast worthy of gods  baccarnal buffet in ca...</td>\n",
       "      <td>en</td>\n",
       "    </tr>\n",
       "    <tr>\n",
       "      <th>2</th>\n",
       "      <td>4</td>\n",
       "      <td>positive</td>\n",
       "      <td>the crab legs are better than the ones at wick...</td>\n",
       "      <td>en</td>\n",
       "    </tr>\n",
       "    <tr>\n",
       "      <th>3</th>\n",
       "      <td>1</td>\n",
       "      <td>negative</td>\n",
       "      <td>not worth it too salty food and expensive this...</td>\n",
       "      <td>en</td>\n",
       "    </tr>\n",
       "    <tr>\n",
       "      <th>4</th>\n",
       "      <td>5</td>\n",
       "      <td>positive</td>\n",
       "      <td>i would give this infinite stars if i could my...</td>\n",
       "      <td>en</td>\n",
       "    </tr>\n",
       "    <tr>\n",
       "      <th>...</th>\n",
       "      <td>...</td>\n",
       "      <td>...</td>\n",
       "      <td>...</td>\n",
       "      <td>...</td>\n",
       "    </tr>\n",
       "    <tr>\n",
       "      <th>10412</th>\n",
       "      <td>5</td>\n",
       "      <td>positive</td>\n",
       "      <td>best buffet ever irma was great served us bett...</td>\n",
       "      <td>en</td>\n",
       "    </tr>\n",
       "    <tr>\n",
       "      <th>10413</th>\n",
       "      <td>4</td>\n",
       "      <td>positive</td>\n",
       "      <td>hollllllyyyy moleyyyy   this buffet was one fo...</td>\n",
       "      <td>en</td>\n",
       "    </tr>\n",
       "    <tr>\n",
       "      <th>10414</th>\n",
       "      <td>5</td>\n",
       "      <td>positive</td>\n",
       "      <td>the selection is amazing and all the food is e...</td>\n",
       "      <td>en</td>\n",
       "    </tr>\n",
       "    <tr>\n",
       "      <th>10415</th>\n",
       "      <td>4</td>\n",
       "      <td>positive</td>\n",
       "      <td>one of the best buffets ive had in vegas my on...</td>\n",
       "      <td>en</td>\n",
       "    </tr>\n",
       "    <tr>\n",
       "      <th>10416</th>\n",
       "      <td>4</td>\n",
       "      <td>positive</td>\n",
       "      <td>i got a chance to go to the bacchanal buffett ...</td>\n",
       "      <td>en</td>\n",
       "    </tr>\n",
       "  </tbody>\n",
       "</table>\n",
       "<p>10373 rows × 4 columns</p>\n",
       "</div>"
      ],
      "text/plain": [
       "       stars sentiment                                               text  \\\n",
       "0          5  positive  after getting food poisoning at the palms hote...   \n",
       "1          4  positive  a feast worthy of gods  baccarnal buffet in ca...   \n",
       "2          4  positive  the crab legs are better than the ones at wick...   \n",
       "3          1  negative  not worth it too salty food and expensive this...   \n",
       "4          5  positive  i would give this infinite stars if i could my...   \n",
       "...      ...       ...                                                ...   \n",
       "10412      5  positive  best buffet ever irma was great served us bett...   \n",
       "10413      4  positive  hollllllyyyy moleyyyy   this buffet was one fo...   \n",
       "10414      5  positive  the selection is amazing and all the food is e...   \n",
       "10415      4  positive  one of the best buffets ive had in vegas my on...   \n",
       "10416      4  positive  i got a chance to go to the bacchanal buffett ...   \n",
       "\n",
       "      language  \n",
       "0           en  \n",
       "1           en  \n",
       "2           en  \n",
       "3           en  \n",
       "4           en  \n",
       "...        ...  \n",
       "10412       en  \n",
       "10413       en  \n",
       "10414       en  \n",
       "10415       en  \n",
       "10416       en  \n",
       "\n",
       "[10373 rows x 4 columns]"
      ]
     },
     "execution_count": 21,
     "metadata": {},
     "output_type": "execute_result"
    }
   ],
   "source": [
    "df"
   ]
  },
  {
   "cell_type": "markdown",
   "metadata": {},
   "source": [
    "- Sentiment analysis : Duygu analizi temelde yazarın tutumunu veya duygusunu, yani olumlu mu olumsuz mu yoksa nötr mü olduğunu belirleme sürecidir.\n",
    "- textblob iki özellik döner:polarity ve subjectivity.\n",
    "  - Polarity: [-1,1] arasında değer alır ve 1 pozitif cümleyi, -1 ise negatif cümleyi ifade eder.\n",
    "  - Subjectivity: Genellikle kişisel fikri ifade eder ve [0,1] arasında değer alır."
   ]
  },
  {
   "cell_type": "code",
   "execution_count": 22,
   "metadata": {},
   "outputs": [],
   "source": [
    "df[['polarity','subjectivity']]=df['text'].apply(lambda t:pd.Series(TextBlob(t).sentiment))"
   ]
  },
  {
   "cell_type": "code",
   "execution_count": 23,
   "metadata": {},
   "outputs": [
    {
     "data": {
      "text/html": [
       "<div>\n",
       "<style scoped>\n",
       "    .dataframe tbody tr th:only-of-type {\n",
       "        vertical-align: middle;\n",
       "    }\n",
       "\n",
       "    .dataframe tbody tr th {\n",
       "        vertical-align: top;\n",
       "    }\n",
       "\n",
       "    .dataframe thead th {\n",
       "        text-align: right;\n",
       "    }\n",
       "</style>\n",
       "<table border=\"1\" class=\"dataframe\">\n",
       "  <thead>\n",
       "    <tr style=\"text-align: right;\">\n",
       "      <th></th>\n",
       "      <th>stars</th>\n",
       "      <th>sentiment</th>\n",
       "      <th>text</th>\n",
       "      <th>language</th>\n",
       "      <th>polarity</th>\n",
       "      <th>subjectivity</th>\n",
       "    </tr>\n",
       "  </thead>\n",
       "  <tbody>\n",
       "    <tr>\n",
       "      <th>0</th>\n",
       "      <td>5</td>\n",
       "      <td>positive</td>\n",
       "      <td>after getting food poisoning at the palms hote...</td>\n",
       "      <td>en</td>\n",
       "      <td>0.367452</td>\n",
       "      <td>0.605702</td>\n",
       "    </tr>\n",
       "    <tr>\n",
       "      <th>1</th>\n",
       "      <td>4</td>\n",
       "      <td>positive</td>\n",
       "      <td>a feast worthy of gods  baccarnal buffet in ca...</td>\n",
       "      <td>en</td>\n",
       "      <td>0.219409</td>\n",
       "      <td>0.537292</td>\n",
       "    </tr>\n",
       "    <tr>\n",
       "      <th>2</th>\n",
       "      <td>4</td>\n",
       "      <td>positive</td>\n",
       "      <td>the crab legs are better than the ones at wick...</td>\n",
       "      <td>en</td>\n",
       "      <td>-0.134722</td>\n",
       "      <td>0.731944</td>\n",
       "    </tr>\n",
       "    <tr>\n",
       "      <th>3</th>\n",
       "      <td>1</td>\n",
       "      <td>negative</td>\n",
       "      <td>not worth it too salty food and expensive this...</td>\n",
       "      <td>en</td>\n",
       "      <td>-0.325000</td>\n",
       "      <td>0.400000</td>\n",
       "    </tr>\n",
       "    <tr>\n",
       "      <th>4</th>\n",
       "      <td>5</td>\n",
       "      <td>positive</td>\n",
       "      <td>i would give this infinite stars if i could my...</td>\n",
       "      <td>en</td>\n",
       "      <td>0.362500</td>\n",
       "      <td>0.725000</td>\n",
       "    </tr>\n",
       "    <tr>\n",
       "      <th>...</th>\n",
       "      <td>...</td>\n",
       "      <td>...</td>\n",
       "      <td>...</td>\n",
       "      <td>...</td>\n",
       "      <td>...</td>\n",
       "      <td>...</td>\n",
       "    </tr>\n",
       "    <tr>\n",
       "      <th>10412</th>\n",
       "      <td>5</td>\n",
       "      <td>positive</td>\n",
       "      <td>best buffet ever irma was great served us bett...</td>\n",
       "      <td>en</td>\n",
       "      <td>0.543750</td>\n",
       "      <td>0.481250</td>\n",
       "    </tr>\n",
       "    <tr>\n",
       "      <th>10413</th>\n",
       "      <td>4</td>\n",
       "      <td>positive</td>\n",
       "      <td>hollllllyyyy moleyyyy   this buffet was one fo...</td>\n",
       "      <td>en</td>\n",
       "      <td>0.210101</td>\n",
       "      <td>0.586869</td>\n",
       "    </tr>\n",
       "    <tr>\n",
       "      <th>10414</th>\n",
       "      <td>5</td>\n",
       "      <td>positive</td>\n",
       "      <td>the selection is amazing and all the food is e...</td>\n",
       "      <td>en</td>\n",
       "      <td>0.480000</td>\n",
       "      <td>0.630000</td>\n",
       "    </tr>\n",
       "    <tr>\n",
       "      <th>10415</th>\n",
       "      <td>4</td>\n",
       "      <td>positive</td>\n",
       "      <td>one of the best buffets ive had in vegas my on...</td>\n",
       "      <td>en</td>\n",
       "      <td>0.185185</td>\n",
       "      <td>0.533333</td>\n",
       "    </tr>\n",
       "    <tr>\n",
       "      <th>10416</th>\n",
       "      <td>4</td>\n",
       "      <td>positive</td>\n",
       "      <td>i got a chance to go to the bacchanal buffett ...</td>\n",
       "      <td>en</td>\n",
       "      <td>0.312500</td>\n",
       "      <td>0.435833</td>\n",
       "    </tr>\n",
       "  </tbody>\n",
       "</table>\n",
       "<p>10373 rows × 6 columns</p>\n",
       "</div>"
      ],
      "text/plain": [
       "       stars sentiment                                               text  \\\n",
       "0          5  positive  after getting food poisoning at the palms hote...   \n",
       "1          4  positive  a feast worthy of gods  baccarnal buffet in ca...   \n",
       "2          4  positive  the crab legs are better than the ones at wick...   \n",
       "3          1  negative  not worth it too salty food and expensive this...   \n",
       "4          5  positive  i would give this infinite stars if i could my...   \n",
       "...      ...       ...                                                ...   \n",
       "10412      5  positive  best buffet ever irma was great served us bett...   \n",
       "10413      4  positive  hollllllyyyy moleyyyy   this buffet was one fo...   \n",
       "10414      5  positive  the selection is amazing and all the food is e...   \n",
       "10415      4  positive  one of the best buffets ive had in vegas my on...   \n",
       "10416      4  positive  i got a chance to go to the bacchanal buffett ...   \n",
       "\n",
       "      language  polarity  subjectivity  \n",
       "0           en  0.367452      0.605702  \n",
       "1           en  0.219409      0.537292  \n",
       "2           en -0.134722      0.731944  \n",
       "3           en -0.325000      0.400000  \n",
       "4           en  0.362500      0.725000  \n",
       "...        ...       ...           ...  \n",
       "10412       en  0.543750      0.481250  \n",
       "10413       en  0.210101      0.586869  \n",
       "10414       en  0.480000      0.630000  \n",
       "10415       en  0.185185      0.533333  \n",
       "10416       en  0.312500      0.435833  \n",
       "\n",
       "[10373 rows x 6 columns]"
      ]
     },
     "execution_count": 23,
     "metadata": {},
     "output_type": "execute_result"
    }
   ],
   "source": [
    "df"
   ]
  },
  {
   "cell_type": "code",
   "execution_count": 75,
   "metadata": {},
   "outputs": [
    {
     "data": {
      "text/plain": [
       "positive    6852\n",
       "negative    1964\n",
       "neutral     1557\n",
       "Name: sentiment, dtype: int64"
      ]
     },
     "execution_count": 75,
     "metadata": {},
     "output_type": "execute_result"
    }
   ],
   "source": [
    "df.sentiment.value_counts()"
   ]
  },
  {
   "cell_type": "markdown",
   "metadata": {},
   "source": [
    "- Toplam pozitif,negatif ve nötr yorumların sayısını gördük.Pozitif yorumların çoğunlukta olduğunu görüyoruz."
   ]
  },
  {
   "cell_type": "code",
   "execution_count": 24,
   "metadata": {},
   "outputs": [
    {
     "data": {
      "image/png": "[encoded data removed]",
      "text/plain": [
       "<Figure size 432x288 with 1 Axes>"
      ]
     },
     "metadata": {
      "needs_background": "light"
     },
     "output_type": "display_data"
    }
   ],
   "source": [
    "sns.boxplot(y='sentiment',x='stars',data=df);"
   ]
  },
  {
   "cell_type": "code",
   "execution_count": 25,
   "metadata": {},
   "outputs": [],
   "source": [
    "def create_wordcloud(text):\n",
    "    mask = np.array(Image.open(\"Image\\cloud.png\"))\n",
    "    stopwords = set(STOPWORDS)\n",
    "    wc = WordCloud(background_color=\"white\",\n",
    "                  mask = mask,\n",
    "                  max_words=25000,\n",
    "                  stopwords=stopwords)\n",
    "    wc.generate(str(text))\n",
    "    wc.to_file(\"Image\\cloud.png\")\n",
    "    print(\"Word Cloud Saved Successfully\")\n",
    "    path=\"wc.png\"\n",
    "    display(Image.open(path))\n"
   ]
  },
  {
   "cell_type": "markdown",
   "metadata": {},
   "source": [
    "- text1=df[df[\"stars\"]==3]\n",
    "- create_wordcloud(text1.text)\n",
    "  - Bir kere çalıştırıp resmi oluşturduktan sonra marktown a çeviriyorum çünkü her seferinde oluştursun istemiyorum."
   ]
  },
  {
   "cell_type": "markdown",
   "metadata": {},
   "source": [
    "## <font color=red> Nötr ( 3 yıldızlı yorumlar )"
   ]
  },
  {
   "attachments": {
    "cloud.png": {
     "image/png": "[encoded data removed]"
    }
   },
   "cell_type": "markdown",
   "metadata": {},
   "source": [
    "![cloud.png](attachment:cloud.png)"
   ]
  },
  {
   "cell_type": "markdown",
   "metadata": {},
   "source": [
    "## <font color=red> Positif ( 4 ve 5 yıldızlı yorumlar )"
   ]
  },
  {
   "cell_type": "markdown",
   "metadata": {},
   "source": [
    "text2=df[(df[\"stars\"]==4)|(df[\"stars\"]==5)]\n",
    "create_wordcloud(text2.text)"
   ]
  },
  {
   "attachments": {
    "cloud.png": {
     "image/png": "[encoded data removed]"
    }
   },
   "cell_type": "markdown",
   "metadata": {},
   "source": [
    "![cloud.png](attachment:cloud.png)"
   ]
  },
  {
   "cell_type": "markdown",
   "metadata": {},
   "source": [
    "## <font color=red> Negatif ( 1 ve 2 yıldızlı yorumlar)"
   ]
  },
  {
   "cell_type": "markdown",
   "metadata": {},
   "source": [
    "text3=df[(df[\"stars\"]==1)|(df[\"stars\"]==2)]\n",
    "create_wordcloud(text3.text)"
   ]
  },
  {
   "attachments": {
    "cloud.png": {
     "image/png": "[encoded data removed]"
    }
   },
   "cell_type": "markdown",
   "metadata": {},
   "source": [
    "![cloud.png](attachment:cloud.png)"
   ]
  },
  {
   "cell_type": "markdown",
   "metadata": {},
   "source": [
    "- Split dataset into X (feature) and y (target)\n",
    "- Split dataset into training and test sets \n"
   ]
  },
  {
   "cell_type": "code",
   "execution_count": 76,
   "metadata": {},
   "outputs": [],
   "source": [
    "X=df.text\n",
    "y=df.sentiment"
   ]
  },
  {
   "cell_type": "code",
   "execution_count": 80,
   "metadata": {},
   "outputs": [
    {
     "data": {
      "text/html": [
       "<div>\n",
       "<style scoped>\n",
       "    .dataframe tbody tr th:only-of-type {\n",
       "        vertical-align: middle;\n",
       "    }\n",
       "\n",
       "    .dataframe tbody tr th {\n",
       "        vertical-align: top;\n",
       "    }\n",
       "\n",
       "    .dataframe thead th {\n",
       "        text-align: right;\n",
       "    }\n",
       "</style>\n",
       "<table border=\"1\" class=\"dataframe\">\n",
       "  <thead>\n",
       "    <tr style=\"text-align: right;\">\n",
       "      <th></th>\n",
       "      <th>text</th>\n",
       "    </tr>\n",
       "  </thead>\n",
       "  <tbody>\n",
       "    <tr>\n",
       "      <th>0</th>\n",
       "      <td>after getting food poisoning at the palms hote...</td>\n",
       "    </tr>\n",
       "    <tr>\n",
       "      <th>1</th>\n",
       "      <td>a feast worthy of gods  baccarnal buffet in ca...</td>\n",
       "    </tr>\n",
       "    <tr>\n",
       "      <th>2</th>\n",
       "      <td>the crab legs are better than the ones at wick...</td>\n",
       "    </tr>\n",
       "    <tr>\n",
       "      <th>3</th>\n",
       "      <td>not worth it too salty food and expensive this...</td>\n",
       "    </tr>\n",
       "    <tr>\n",
       "      <th>4</th>\n",
       "      <td>i would give this infinite stars if i could my...</td>\n",
       "    </tr>\n",
       "  </tbody>\n",
       "</table>\n",
       "</div>"
      ],
      "text/plain": [
       "                                                text\n",
       "0  after getting food poisoning at the palms hote...\n",
       "1  a feast worthy of gods  baccarnal buffet in ca...\n",
       "2  the crab legs are better than the ones at wick...\n",
       "3  not worth it too salty food and expensive this...\n",
       "4  i would give this infinite stars if i could my..."
      ]
     },
     "execution_count": 80,
     "metadata": {},
     "output_type": "execute_result"
    }
   ],
   "source": [
    "pd.DataFrame(X.head(5))"
   ]
  },
  {
   "cell_type": "code",
   "execution_count": 81,
   "metadata": {},
   "outputs": [
    {
     "data": {
      "text/html": [
       "<div>\n",
       "<style scoped>\n",
       "    .dataframe tbody tr th:only-of-type {\n",
       "        vertical-align: middle;\n",
       "    }\n",
       "\n",
       "    .dataframe tbody tr th {\n",
       "        vertical-align: top;\n",
       "    }\n",
       "\n",
       "    .dataframe thead th {\n",
       "        text-align: right;\n",
       "    }\n",
       "</style>\n",
       "<table border=\"1\" class=\"dataframe\">\n",
       "  <thead>\n",
       "    <tr style=\"text-align: right;\">\n",
       "      <th></th>\n",
       "      <th>sentiment</th>\n",
       "    </tr>\n",
       "  </thead>\n",
       "  <tbody>\n",
       "    <tr>\n",
       "      <th>0</th>\n",
       "      <td>positive</td>\n",
       "    </tr>\n",
       "    <tr>\n",
       "      <th>1</th>\n",
       "      <td>positive</td>\n",
       "    </tr>\n",
       "    <tr>\n",
       "      <th>2</th>\n",
       "      <td>positive</td>\n",
       "    </tr>\n",
       "    <tr>\n",
       "      <th>3</th>\n",
       "      <td>negative</td>\n",
       "    </tr>\n",
       "    <tr>\n",
       "      <th>4</th>\n",
       "      <td>positive</td>\n",
       "    </tr>\n",
       "  </tbody>\n",
       "</table>\n",
       "</div>"
      ],
      "text/plain": [
       "  sentiment\n",
       "0  positive\n",
       "1  positive\n",
       "2  positive\n",
       "3  negative\n",
       "4  positive"
      ]
     },
     "execution_count": 81,
     "metadata": {},
     "output_type": "execute_result"
    }
   ],
   "source": [
    "pd.DataFrame(y.head(5))"
   ]
  },
  {
   "cell_type": "code",
   "execution_count": 82,
   "metadata": {},
   "outputs": [],
   "source": [
    "X_train,X_test,y_train,y_test=train_test_split(X,y,test_size=0.3,random_state=42)"
   ]
  },
  {
   "cell_type": "code",
   "execution_count": 84,
   "metadata": {},
   "outputs": [],
   "source": [
    "vec=CountVectorizer(stop_words='english')\n",
    "X_train_vec=vec.fit_transform(X_train)\n",
    "X_test_vec=vec.transform(X_test)"
   ]
  },
  {
   "cell_type": "markdown",
   "metadata": {},
   "source": [
    "- Vektöre çevirdik(fit_transform yazıyı öğren ve vektöre çevir)\n",
    "  - X_test için fit_transform değilde sadece transform yaptık çünkü X_train i çevirirken zaten öğrenmişti."
   ]
  },
  {
   "cell_type": "markdown",
   "metadata": {},
   "source": [
    "- .toarray() ile array haline çevirdik,sütun isimlerini get_feature_names ile aldık ve dataframe e çevirip yazdırdık."
   ]
  },
  {
   "cell_type": "code",
   "execution_count": 86,
   "metadata": {},
   "outputs": [
    {
     "data": {
      "text/html": [
       "<div>\n",
       "<style scoped>\n",
       "    .dataframe tbody tr th:only-of-type {\n",
       "        vertical-align: middle;\n",
       "    }\n",
       "\n",
       "    .dataframe tbody tr th {\n",
       "        vertical-align: top;\n",
       "    }\n",
       "\n",
       "    .dataframe thead th {\n",
       "        text-align: right;\n",
       "    }\n",
       "</style>\n",
       "<table border=\"1\" class=\"dataframe\">\n",
       "  <thead>\n",
       "    <tr style=\"text-align: right;\">\n",
       "      <th></th>\n",
       "      <th>__</th>\n",
       "      <th>___</th>\n",
       "      <th>____</th>\n",
       "      <th>_________________________</th>\n",
       "      <th>_really_</th>\n",
       "      <th>_that_</th>\n",
       "      <th>aa</th>\n",
       "      <th>aaa</th>\n",
       "      <th>aaaah</th>\n",
       "      <th>aaahhh</th>\n",
       "      <th>...</th>\n",
       "      <th>皮蛋瘦肉粥</th>\n",
       "      <th>第一次去沒有傳說中那麼神奇</th>\n",
       "      <th>羊排一般太熟沒有水分而且不夠熱</th>\n",
       "      <th>蒙古牛肉</th>\n",
       "      <th>蝦餃</th>\n",
       "      <th>裡面地方很大從自己桌子出發去拿一盤東西再走回來已經佔用了他們所限定時間兩小時裡的相當一部分時間</th>\n",
       "      <th>過了下午六點後才拿出來跟雪蟹混在一起跟其他所有菜一樣拿起來不太容易因為放的太靠內距離太遠</th>\n",
       "      <th>食物的選擇蠻多的也不錯不過牡蠣倒是不怎麼樣</th>\n",
       "      <th>饥饿营销明明里面很多空位还告诉我们要排队个半小时到个小时大厅很暗淡黑灯瞎火的食物一般吧就蟹比较新鲜好吃性价比不太高有点失望they</th>\n",
       "      <th>魚香茄子</th>\n",
       "    </tr>\n",
       "  </thead>\n",
       "  <tbody>\n",
       "    <tr>\n",
       "      <th>1369</th>\n",
       "      <td>0</td>\n",
       "      <td>0</td>\n",
       "      <td>0</td>\n",
       "      <td>0</td>\n",
       "      <td>0</td>\n",
       "      <td>0</td>\n",
       "      <td>0</td>\n",
       "      <td>0</td>\n",
       "      <td>0</td>\n",
       "      <td>0</td>\n",
       "      <td>...</td>\n",
       "      <td>0</td>\n",
       "      <td>0</td>\n",
       "      <td>0</td>\n",
       "      <td>0</td>\n",
       "      <td>0</td>\n",
       "      <td>0</td>\n",
       "      <td>0</td>\n",
       "      <td>0</td>\n",
       "      <td>0</td>\n",
       "      <td>0</td>\n",
       "    </tr>\n",
       "    <tr>\n",
       "      <th>1314</th>\n",
       "      <td>0</td>\n",
       "      <td>0</td>\n",
       "      <td>0</td>\n",
       "      <td>0</td>\n",
       "      <td>0</td>\n",
       "      <td>0</td>\n",
       "      <td>0</td>\n",
       "      <td>0</td>\n",
       "      <td>0</td>\n",
       "      <td>0</td>\n",
       "      <td>...</td>\n",
       "      <td>0</td>\n",
       "      <td>0</td>\n",
       "      <td>0</td>\n",
       "      <td>0</td>\n",
       "      <td>0</td>\n",
       "      <td>0</td>\n",
       "      <td>0</td>\n",
       "      <td>0</td>\n",
       "      <td>0</td>\n",
       "      <td>0</td>\n",
       "    </tr>\n",
       "    <tr>\n",
       "      <th>1696</th>\n",
       "      <td>0</td>\n",
       "      <td>0</td>\n",
       "      <td>0</td>\n",
       "      <td>0</td>\n",
       "      <td>0</td>\n",
       "      <td>0</td>\n",
       "      <td>0</td>\n",
       "      <td>0</td>\n",
       "      <td>0</td>\n",
       "      <td>0</td>\n",
       "      <td>...</td>\n",
       "      <td>0</td>\n",
       "      <td>0</td>\n",
       "      <td>0</td>\n",
       "      <td>0</td>\n",
       "      <td>0</td>\n",
       "      <td>0</td>\n",
       "      <td>0</td>\n",
       "      <td>0</td>\n",
       "      <td>0</td>\n",
       "      <td>0</td>\n",
       "    </tr>\n",
       "    <tr>\n",
       "      <th>3411</th>\n",
       "      <td>0</td>\n",
       "      <td>0</td>\n",
       "      <td>0</td>\n",
       "      <td>0</td>\n",
       "      <td>0</td>\n",
       "      <td>0</td>\n",
       "      <td>0</td>\n",
       "      <td>0</td>\n",
       "      <td>0</td>\n",
       "      <td>0</td>\n",
       "      <td>...</td>\n",
       "      <td>0</td>\n",
       "      <td>0</td>\n",
       "      <td>0</td>\n",
       "      <td>0</td>\n",
       "      <td>0</td>\n",
       "      <td>0</td>\n",
       "      <td>0</td>\n",
       "      <td>0</td>\n",
       "      <td>0</td>\n",
       "      <td>0</td>\n",
       "    </tr>\n",
       "    <tr>\n",
       "      <th>3239</th>\n",
       "      <td>0</td>\n",
       "      <td>0</td>\n",
       "      <td>0</td>\n",
       "      <td>0</td>\n",
       "      <td>0</td>\n",
       "      <td>0</td>\n",
       "      <td>0</td>\n",
       "      <td>0</td>\n",
       "      <td>0</td>\n",
       "      <td>0</td>\n",
       "      <td>...</td>\n",
       "      <td>0</td>\n",
       "      <td>0</td>\n",
       "      <td>0</td>\n",
       "      <td>0</td>\n",
       "      <td>0</td>\n",
       "      <td>0</td>\n",
       "      <td>0</td>\n",
       "      <td>0</td>\n",
       "      <td>0</td>\n",
       "      <td>0</td>\n",
       "    </tr>\n",
       "    <tr>\n",
       "      <th>4811</th>\n",
       "      <td>0</td>\n",
       "      <td>0</td>\n",
       "      <td>0</td>\n",
       "      <td>0</td>\n",
       "      <td>0</td>\n",
       "      <td>0</td>\n",
       "      <td>0</td>\n",
       "      <td>0</td>\n",
       "      <td>0</td>\n",
       "      <td>0</td>\n",
       "      <td>...</td>\n",
       "      <td>0</td>\n",
       "      <td>0</td>\n",
       "      <td>0</td>\n",
       "      <td>0</td>\n",
       "      <td>0</td>\n",
       "      <td>0</td>\n",
       "      <td>0</td>\n",
       "      <td>0</td>\n",
       "      <td>0</td>\n",
       "      <td>0</td>\n",
       "    </tr>\n",
       "    <tr>\n",
       "      <th>5464</th>\n",
       "      <td>0</td>\n",
       "      <td>0</td>\n",
       "      <td>0</td>\n",
       "      <td>0</td>\n",
       "      <td>0</td>\n",
       "      <td>0</td>\n",
       "      <td>0</td>\n",
       "      <td>0</td>\n",
       "      <td>0</td>\n",
       "      <td>0</td>\n",
       "      <td>...</td>\n",
       "      <td>0</td>\n",
       "      <td>0</td>\n",
       "      <td>0</td>\n",
       "      <td>0</td>\n",
       "      <td>0</td>\n",
       "      <td>0</td>\n",
       "      <td>0</td>\n",
       "      <td>0</td>\n",
       "      <td>0</td>\n",
       "      <td>0</td>\n",
       "    </tr>\n",
       "    <tr>\n",
       "      <th>6366</th>\n",
       "      <td>0</td>\n",
       "      <td>0</td>\n",
       "      <td>0</td>\n",
       "      <td>0</td>\n",
       "      <td>0</td>\n",
       "      <td>0</td>\n",
       "      <td>0</td>\n",
       "      <td>0</td>\n",
       "      <td>0</td>\n",
       "      <td>0</td>\n",
       "      <td>...</td>\n",
       "      <td>0</td>\n",
       "      <td>0</td>\n",
       "      <td>0</td>\n",
       "      <td>0</td>\n",
       "      <td>0</td>\n",
       "      <td>0</td>\n",
       "      <td>0</td>\n",
       "      <td>0</td>\n",
       "      <td>0</td>\n",
       "      <td>0</td>\n",
       "    </tr>\n",
       "    <tr>\n",
       "      <th>6867</th>\n",
       "      <td>0</td>\n",
       "      <td>0</td>\n",
       "      <td>0</td>\n",
       "      <td>0</td>\n",
       "      <td>0</td>\n",
       "      <td>0</td>\n",
       "      <td>0</td>\n",
       "      <td>0</td>\n",
       "      <td>0</td>\n",
       "      <td>0</td>\n",
       "      <td>...</td>\n",
       "      <td>0</td>\n",
       "      <td>0</td>\n",
       "      <td>0</td>\n",
       "      <td>0</td>\n",
       "      <td>0</td>\n",
       "      <td>0</td>\n",
       "      <td>0</td>\n",
       "      <td>0</td>\n",
       "      <td>0</td>\n",
       "      <td>0</td>\n",
       "    </tr>\n",
       "    <tr>\n",
       "      <th>3688</th>\n",
       "      <td>0</td>\n",
       "      <td>0</td>\n",
       "      <td>0</td>\n",
       "      <td>0</td>\n",
       "      <td>0</td>\n",
       "      <td>0</td>\n",
       "      <td>0</td>\n",
       "      <td>0</td>\n",
       "      <td>0</td>\n",
       "      <td>0</td>\n",
       "      <td>...</td>\n",
       "      <td>0</td>\n",
       "      <td>0</td>\n",
       "      <td>0</td>\n",
       "      <td>0</td>\n",
       "      <td>0</td>\n",
       "      <td>0</td>\n",
       "      <td>0</td>\n",
       "      <td>0</td>\n",
       "      <td>0</td>\n",
       "      <td>0</td>\n",
       "    </tr>\n",
       "  </tbody>\n",
       "</table>\n",
       "<p>10 rows × 18501 columns</p>\n",
       "</div>"
      ],
      "text/plain": [
       "      __  ___  ____  _________________________  _really_  _that_  aa  aaa  \\\n",
       "1369   0    0     0                          0         0       0   0    0   \n",
       "1314   0    0     0                          0         0       0   0    0   \n",
       "1696   0    0     0                          0         0       0   0    0   \n",
       "3411   0    0     0                          0         0       0   0    0   \n",
       "3239   0    0     0                          0         0       0   0    0   \n",
       "4811   0    0     0                          0         0       0   0    0   \n",
       "5464   0    0     0                          0         0       0   0    0   \n",
       "6366   0    0     0                          0         0       0   0    0   \n",
       "6867   0    0     0                          0         0       0   0    0   \n",
       "3688   0    0     0                          0         0       0   0    0   \n",
       "\n",
       "      aaaah  aaahhh  ...  皮蛋瘦肉粥  第一次去沒有傳說中那麼神奇  羊排一般太熟沒有水分而且不夠熱  蒙古牛肉  蝦餃  \\\n",
       "1369      0       0  ...      0              0                0     0   0   \n",
       "1314      0       0  ...      0              0                0     0   0   \n",
       "1696      0       0  ...      0              0                0     0   0   \n",
       "3411      0       0  ...      0              0                0     0   0   \n",
       "3239      0       0  ...      0              0                0     0   0   \n",
       "4811      0       0  ...      0              0                0     0   0   \n",
       "5464      0       0  ...      0              0                0     0   0   \n",
       "6366      0       0  ...      0              0                0     0   0   \n",
       "6867      0       0  ...      0              0                0     0   0   \n",
       "3688      0       0  ...      0              0                0     0   0   \n",
       "\n",
       "      裡面地方很大從自己桌子出發去拿一盤東西再走回來已經佔用了他們所限定時間兩小時裡的相當一部分時間  \\\n",
       "1369                                                0   \n",
       "1314                                                0   \n",
       "1696                                                0   \n",
       "3411                                                0   \n",
       "3239                                                0   \n",
       "4811                                                0   \n",
       "5464                                                0   \n",
       "6366                                                0   \n",
       "6867                                                0   \n",
       "3688                                                0   \n",
       "\n",
       "      過了下午六點後才拿出來跟雪蟹混在一起跟其他所有菜一樣拿起來不太容易因為放的太靠內距離太遠  食物的選擇蠻多的也不錯不過牡蠣倒是不怎麼樣  \\\n",
       "1369                                             0                      0   \n",
       "1314                                             0                      0   \n",
       "1696                                             0                      0   \n",
       "3411                                             0                      0   \n",
       "3239                                             0                      0   \n",
       "4811                                             0                      0   \n",
       "5464                                             0                      0   \n",
       "6366                                             0                      0   \n",
       "6867                                             0                      0   \n",
       "3688                                             0                      0   \n",
       "\n",
       "      饥饿营销明明里面很多空位还告诉我们要排队个半小时到个小时大厅很暗淡黑灯瞎火的食物一般吧就蟹比较新鲜好吃性价比不太高有点失望they  魚香茄子  \n",
       "1369                                                  0                     0  \n",
       "1314                                                  0                     0  \n",
       "1696                                                  0                     0  \n",
       "3411                                                  0                     0  \n",
       "3239                                                  0                     0  \n",
       "4811                                                  0                     0  \n",
       "5464                                                  0                     0  \n",
       "6366                                                  0                     0  \n",
       "6867                                                  0                     0  \n",
       "3688                                                  0                     0  \n",
       "\n",
       "[10 rows x 18501 columns]"
      ]
     },
     "execution_count": 86,
     "metadata": {},
     "output_type": "execute_result"
    }
   ],
   "source": [
    "pd.DataFrame(X_train_vec.toarray(),columns=vec.get_feature_names()).sample(10)"
   ]
  },
  {
   "cell_type": "code",
   "execution_count": 87,
   "metadata": {},
   "outputs": [],
   "source": [
    "vec2=CountVectorizer(ngram_range=(1,2),stop_words='english',binary=True)\n",
    "X_train_vec2=vec2.fit_transform(X_train)\n",
    "X_test_vec2=vec2.transform(X_test)"
   ]
  },
  {
   "cell_type": "markdown",
   "metadata": {},
   "source": [
    "- ngram ı basitçe anlatmak gerekirse:\n",
    "  - Bazen dilde yanına bir kelime gelmedikçe anlamlı olmayan veya yanına(önüne veya arkasına) gelen kelimeyle farklı anlamlar kazanan kelimeler vardır.Biz bu kelimeleri bir dökümanda okurken farketmeyiz çünkü dökümanın tamamını -yani o kelimenin hem önündeki hem arkasındaki kelimeyide- okuduğumuz için o kelimenin orada hangi anlamıyla kullanıldığını anlarız.Sesteş kelimelerden bahsediyorum.('Döndü' şiirindeki gibi)Aslında ngram ile yapay zekaya da aynı şeyi yaptırıyoruz.O kelimenin hem arkasına hem önüne bak ki ne anlamda kullanılmış anla diyoruz."
   ]
  },
  {
   "cell_type": "code",
   "execution_count": 108,
   "metadata": {},
   "outputs": [
    {
     "data": {
      "text/plain": [
       "0.7853470437017995"
      ]
     },
     "execution_count": 108,
     "metadata": {},
     "output_type": "execute_result"
    }
   ],
   "source": [
    "lr=LogisticRegression()\n",
    "pred_vec=lr.fit(X_train_vec,y_train).predict(X_test_vec)\n",
    "accuracy=accuracy_score(y_test,pred_vec)\n",
    "accuracy"
   ]
  },
  {
   "cell_type": "code",
   "execution_count": 109,
   "metadata": {},
   "outputs": [
    {
     "data": {
      "text/plain": [
       "0.7717866490587548"
      ]
     },
     "execution_count": 109,
     "metadata": {},
     "output_type": "execute_result"
    }
   ],
   "source": [
    "precision=precision_score(y_test,pred_vec,average='weighted')\n",
    "precision"
   ]
  },
  {
   "cell_type": "code",
   "execution_count": 110,
   "metadata": {},
   "outputs": [
    {
     "data": {
      "text/plain": [
       "0.7774300916343937"
      ]
     },
     "execution_count": 110,
     "metadata": {},
     "output_type": "execute_result"
    }
   ],
   "source": [
    "f1=f1_score(y_test,pred_vec,average='weighted')\n",
    "f1"
   ]
  },
  {
   "cell_type": "code",
   "execution_count": 111,
   "metadata": {},
   "outputs": [
    {
     "data": {
      "text/plain": [
       "0.7853470437017995"
      ]
     },
     "execution_count": 111,
     "metadata": {},
     "output_type": "execute_result"
    }
   ],
   "source": [
    "recall=recall_score(y_test,pred_vec,average='weighted')\n",
    "recall"
   ]
  },
  {
   "cell_type": "code",
   "execution_count": 112,
   "metadata": {},
   "outputs": [],
   "source": [
    "vec1=[accuracy,precision,f1,recall]"
   ]
  },
  {
   "cell_type": "code",
   "execution_count": 100,
   "metadata": {},
   "outputs": [
    {
     "data": {
      "text/plain": [
       "array([[ 375,  115,   94],\n",
       "       [ 122,  176,  179],\n",
       "       [  58,  100, 1893]], dtype=int64)"
      ]
     },
     "execution_count": 100,
     "metadata": {},
     "output_type": "execute_result"
    }
   ],
   "source": [
    "confusion_matrix(y_test,pred_vec)"
   ]
  },
  {
   "cell_type": "code",
   "execution_count": 105,
   "metadata": {},
   "outputs": [
    {
     "data": {
      "image/png": "[encoded data removed]",
      "text/plain": [
       "<Figure size 432x288 with 2 Axes>"
      ]
     },
     "metadata": {
      "needs_background": "light"
     },
     "output_type": "display_data"
    }
   ],
   "source": [
    "sns.heatmap(confusion_matrix(y_test,pred_vec),annot=True);"
   ]
  },
  {
   "cell_type": "code",
   "execution_count": 119,
   "metadata": {},
   "outputs": [
    {
     "data": {
      "text/plain": [
       "0.8071979434447301"
      ]
     },
     "execution_count": 119,
     "metadata": {},
     "output_type": "execute_result"
    }
   ],
   "source": [
    "pred_vec2=lr.fit(X_train_vec2,y_train).predict(X_test_vec2)\n",
    "accuracy=accuracy_score(y_test,pred_vec2)\n",
    "accuracy"
   ]
  },
  {
   "cell_type": "code",
   "execution_count": 120,
   "metadata": {},
   "outputs": [
    {
     "data": {
      "text/plain": [
       "0.7852362741014941"
      ]
     },
     "execution_count": 120,
     "metadata": {},
     "output_type": "execute_result"
    }
   ],
   "source": [
    "precision=precision_score(y_test,pred_vec2,average='weighted')\n",
    "precision"
   ]
  },
  {
   "cell_type": "code",
   "execution_count": 121,
   "metadata": {},
   "outputs": [
    {
     "data": {
      "text/plain": [
       "0.7907348345370954"
      ]
     },
     "execution_count": 121,
     "metadata": {},
     "output_type": "execute_result"
    }
   ],
   "source": [
    "f1=f1_score(y_test,pred_vec2,average='weighted')\n",
    "f1"
   ]
  },
  {
   "cell_type": "code",
   "execution_count": 122,
   "metadata": {},
   "outputs": [
    {
     "data": {
      "text/plain": [
       "0.8071979434447301"
      ]
     },
     "execution_count": 122,
     "metadata": {},
     "output_type": "execute_result"
    }
   ],
   "source": [
    "recall=recall_score(y_test,pred_vec2,average='weighted')\n",
    "recall"
   ]
  },
  {
   "cell_type": "code",
   "execution_count": 123,
   "metadata": {},
   "outputs": [],
   "source": [
    "vec2=[accuracy,precision,f1,recall]"
   ]
  },
  {
   "cell_type": "code",
   "execution_count": 106,
   "metadata": {},
   "outputs": [
    {
     "data": {
      "text/plain": [
       "array([[ 404,   82,   98],\n",
       "       [ 119,  150,  208],\n",
       "       [  38,   55, 1958]], dtype=int64)"
      ]
     },
     "execution_count": 106,
     "metadata": {},
     "output_type": "execute_result"
    }
   ],
   "source": [
    "confusion_matrix(y_test,pred_vec2)"
   ]
  },
  {
   "cell_type": "code",
   "execution_count": 107,
   "metadata": {},
   "outputs": [
    {
     "data": {
      "image/png": "[encoded data removed]",
      "text/plain": [
       "<Figure size 432x288 with 2 Axes>"
      ]
     },
     "metadata": {
      "needs_background": "light"
     },
     "output_type": "display_data"
    }
   ],
   "source": [
    "sns.heatmap(confusion_matrix(y_test,pred_vec2),annot=True);"
   ]
  },
  {
   "cell_type": "markdown",
   "metadata": {},
   "source": [
    "- Şimdi tüm ölçümleri bir tablo halinde görelim\n",
    "  - zip ile verileri aynı tabloda toplayabildik."
   ]
  },
  {
   "cell_type": "code",
   "execution_count": 129,
   "metadata": {},
   "outputs": [
    {
     "data": {
      "text/html": [
       "<div>\n",
       "<style scoped>\n",
       "    .dataframe tbody tr th:only-of-type {\n",
       "        vertical-align: middle;\n",
       "    }\n",
       "\n",
       "    .dataframe tbody tr th {\n",
       "        vertical-align: top;\n",
       "    }\n",
       "\n",
       "    .dataframe thead th {\n",
       "        text-align: right;\n",
       "    }\n",
       "</style>\n",
       "<table border=\"1\" class=\"dataframe\">\n",
       "  <thead>\n",
       "    <tr style=\"text-align: right;\">\n",
       "      <th></th>\n",
       "      <th>LogisticR_CountVectorizer</th>\n",
       "      <th>LogisticR_CountVectorizer_Ngram</th>\n",
       "    </tr>\n",
       "  </thead>\n",
       "  <tbody>\n",
       "    <tr>\n",
       "      <th>Accuracy</th>\n",
       "      <td>0.785347</td>\n",
       "      <td>0.807198</td>\n",
       "    </tr>\n",
       "    <tr>\n",
       "      <th>Precision</th>\n",
       "      <td>0.771787</td>\n",
       "      <td>0.785236</td>\n",
       "    </tr>\n",
       "    <tr>\n",
       "      <th>F1</th>\n",
       "      <td>0.777430</td>\n",
       "      <td>0.790735</td>\n",
       "    </tr>\n",
       "    <tr>\n",
       "      <th>Recall</th>\n",
       "      <td>0.785347</td>\n",
       "      <td>0.807198</td>\n",
       "    </tr>\n",
       "  </tbody>\n",
       "</table>\n",
       "</div>"
      ],
      "text/plain": [
       "           LogisticR_CountVectorizer  LogisticR_CountVectorizer_Ngram\n",
       "Accuracy                    0.785347                         0.807198\n",
       "Precision                   0.771787                         0.785236\n",
       "F1                          0.777430                         0.790735\n",
       "Recall                      0.785347                         0.807198"
      ]
     },
     "execution_count": 129,
     "metadata": {},
     "output_type": "execute_result"
    }
   ],
   "source": [
    "result=pd.DataFrame(list(zip(vec1,vec2)))\n",
    "result=result.set_index([['Accuracy','Precision','F1','Recall']])\n",
    "result.columns=['LogisticR_CountVectorizer','LogisticR_CountVectorizer_Ngram']\n",
    "result"
   ]
  },
  {
   "cell_type": "markdown",
   "metadata": {},
   "source": [
    "- Şimdi ben bu tabloyu tüm Classification modelleri için bulmak istiyorum ama tek tek her biri için aynı kodları yazmak istemiyorum bu sebeple bir fonksiyon oluşturacağım:"
   ]
  },
  {
   "cell_type": "markdown",
   "metadata": {},
   "source": [
    "## CountVectorizer"
   ]
  },
  {
   "cell_type": "code",
   "execution_count": 135,
   "metadata": {},
   "outputs": [
    {
     "data": {
      "text/html": [
       "<div>\n",
       "<style scoped>\n",
       "    .dataframe tbody tr th:only-of-type {\n",
       "        vertical-align: middle;\n",
       "    }\n",
       "\n",
       "    .dataframe tbody tr th {\n",
       "        vertical-align: top;\n",
       "    }\n",
       "\n",
       "    .dataframe thead th {\n",
       "        text-align: right;\n",
       "    }\n",
       "</style>\n",
       "<table border=\"1\" class=\"dataframe\">\n",
       "  <thead>\n",
       "    <tr style=\"text-align: right;\">\n",
       "      <th></th>\n",
       "      <th>Classifier</th>\n",
       "      <th>Methods</th>\n",
       "      <th>Accuracy</th>\n",
       "      <th>Precision</th>\n",
       "      <th>F1</th>\n",
       "      <th>Recall</th>\n",
       "    </tr>\n",
       "  </thead>\n",
       "  <tbody>\n",
       "    <tr>\n",
       "      <th>0</th>\n",
       "      <td>LogisticRegression</td>\n",
       "      <td>CountVectorizer</td>\n",
       "      <td>78.534704</td>\n",
       "      <td>77.178665</td>\n",
       "      <td>77.743009</td>\n",
       "      <td>78.534704</td>\n",
       "    </tr>\n",
       "    <tr>\n",
       "      <th>0</th>\n",
       "      <td>KNeighborsClassifier</td>\n",
       "      <td>CountVectorizer</td>\n",
       "      <td>66.998715</td>\n",
       "      <td>58.651159</td>\n",
       "      <td>59.916724</td>\n",
       "      <td>66.998715</td>\n",
       "    </tr>\n",
       "    <tr>\n",
       "      <th>0</th>\n",
       "      <td>DecisionTreeClassifier</td>\n",
       "      <td>CountVectorizer</td>\n",
       "      <td>66.516710</td>\n",
       "      <td>64.982161</td>\n",
       "      <td>65.679950</td>\n",
       "      <td>66.516710</td>\n",
       "    </tr>\n",
       "    <tr>\n",
       "      <th>0</th>\n",
       "      <td>RandomForestClassifier</td>\n",
       "      <td>CountVectorizer</td>\n",
       "      <td>73.200514</td>\n",
       "      <td>71.521209</td>\n",
       "      <td>65.411598</td>\n",
       "      <td>73.200514</td>\n",
       "    </tr>\n",
       "    <tr>\n",
       "      <th>0</th>\n",
       "      <td>AdaBoostClassifier</td>\n",
       "      <td>CountVectorizer</td>\n",
       "      <td>76.413882</td>\n",
       "      <td>73.119751</td>\n",
       "      <td>73.678480</td>\n",
       "      <td>76.413882</td>\n",
       "    </tr>\n",
       "    <tr>\n",
       "      <th>0</th>\n",
       "      <td>GradientBoostingClassifier</td>\n",
       "      <td>CountVectorizer</td>\n",
       "      <td>75.739075</td>\n",
       "      <td>73.121759</td>\n",
       "      <td>71.613800</td>\n",
       "      <td>75.739075</td>\n",
       "    </tr>\n",
       "    <tr>\n",
       "      <th>0</th>\n",
       "      <td>MultinomialNB</td>\n",
       "      <td>CountVectorizer</td>\n",
       "      <td>78.309769</td>\n",
       "      <td>74.477813</td>\n",
       "      <td>74.693401</td>\n",
       "      <td>78.309769</td>\n",
       "    </tr>\n",
       "    <tr>\n",
       "      <th>0</th>\n",
       "      <td>BernoulliNB</td>\n",
       "      <td>CountVectorizer</td>\n",
       "      <td>70.533419</td>\n",
       "      <td>68.714367</td>\n",
       "      <td>67.764180</td>\n",
       "      <td>70.533419</td>\n",
       "    </tr>\n",
       "  </tbody>\n",
       "</table>\n",
       "</div>"
      ],
      "text/plain": [
       "                   Classifier          Methods   Accuracy  Precision  \\\n",
       "0          LogisticRegression  CountVectorizer  78.534704  77.178665   \n",
       "0        KNeighborsClassifier  CountVectorizer  66.998715  58.651159   \n",
       "0      DecisionTreeClassifier  CountVectorizer  66.516710  64.982161   \n",
       "0      RandomForestClassifier  CountVectorizer  73.200514  71.521209   \n",
       "0          AdaBoostClassifier  CountVectorizer  76.413882  73.119751   \n",
       "0  GradientBoostingClassifier  CountVectorizer  75.739075  73.121759   \n",
       "0               MultinomialNB  CountVectorizer  78.309769  74.477813   \n",
       "0                 BernoulliNB  CountVectorizer  70.533419  68.714367   \n",
       "\n",
       "          F1     Recall  \n",
       "0  77.743009  78.534704  \n",
       "0  59.916724  66.998715  \n",
       "0  65.679950  66.516710  \n",
       "0  65.411598  73.200514  \n",
       "0  73.678480  76.413882  \n",
       "0  71.613800  75.739075  \n",
       "0  74.693401  78.309769  \n",
       "0  67.764180  70.533419  "
      ]
     },
     "execution_count": 135,
     "metadata": {},
     "output_type": "execute_result"
    }
   ],
   "source": [
    "classifiers=[\n",
    "    LogisticRegression(),\n",
    "    KNeighborsClassifier(3),\n",
    "    DecisionTreeClassifier(),\n",
    "    RandomForestClassifier(),\n",
    "    AdaBoostClassifier(),\n",
    "    GradientBoostingClassifier(),\n",
    "    MultinomialNB(),\n",
    "    BernoulliNB()\n",
    "]\n",
    "\n",
    "cvec_col=['Classifier','Methods','Accuracy','Precision','F1','Recall']\n",
    "cvec=pd.DataFrame(columns=cvec_col)\n",
    "\n",
    "for i in classifiers:\n",
    "    pred=i.fit(X_train_vec,y_train).predict(X_test_vec)\n",
    "    name = i.__class__.__name__\n",
    "    #Yukarıda tanımladığımız modelleri sırasıyla çağıracağız ve isminide tabloya bu kod ile ekliyoruz.\n",
    "    \n",
    "    accuracy=accuracy_score(y_test,pred)\n",
    "    precision=precision_score(y_test,pred,average='weighted')\n",
    "    f1=f1_score(y_test,pred,average='weighted')\n",
    "    recall=recall_score(y_test,pred,average='weighted')\n",
    "\n",
    "    cvec_entry=pd.DataFrame([[name,'CountVectorizer',accuracy*100,precision*100,f1*100,recall*100]],columns=cvec_col)\n",
    "    #score ları 100 ile çarpmamın sebebi , yüzde başarı oranının daha net görülebilmesi\n",
    "    cvec=cvec.append(cvec_entry)\n",
    "\n",
    "cvec"
   ]
  },
  {
   "cell_type": "markdown",
   "metadata": {},
   "source": [
    "## N-grams"
   ]
  },
  {
   "cell_type": "code",
   "execution_count": 136,
   "metadata": {},
   "outputs": [
    {
     "data": {
      "text/html": [
       "<div>\n",
       "<style scoped>\n",
       "    .dataframe tbody tr th:only-of-type {\n",
       "        vertical-align: middle;\n",
       "    }\n",
       "\n",
       "    .dataframe tbody tr th {\n",
       "        vertical-align: top;\n",
       "    }\n",
       "\n",
       "    .dataframe thead th {\n",
       "        text-align: right;\n",
       "    }\n",
       "</style>\n",
       "<table border=\"1\" class=\"dataframe\">\n",
       "  <thead>\n",
       "    <tr style=\"text-align: right;\">\n",
       "      <th></th>\n",
       "      <th>Classifier</th>\n",
       "      <th>Methods</th>\n",
       "      <th>Accuracy</th>\n",
       "      <th>Precision</th>\n",
       "      <th>F1</th>\n",
       "      <th>Recall</th>\n",
       "    </tr>\n",
       "  </thead>\n",
       "  <tbody>\n",
       "    <tr>\n",
       "      <th>0</th>\n",
       "      <td>LogisticRegression</td>\n",
       "      <td>N-grams</td>\n",
       "      <td>80.719794</td>\n",
       "      <td>78.523627</td>\n",
       "      <td>79.073483</td>\n",
       "      <td>80.719794</td>\n",
       "    </tr>\n",
       "    <tr>\n",
       "      <th>0</th>\n",
       "      <td>KNeighborsClassifier</td>\n",
       "      <td>N-grams</td>\n",
       "      <td>66.613111</td>\n",
       "      <td>64.372208</td>\n",
       "      <td>55.067062</td>\n",
       "      <td>66.613111</td>\n",
       "    </tr>\n",
       "    <tr>\n",
       "      <th>0</th>\n",
       "      <td>DecisionTreeClassifier</td>\n",
       "      <td>N-grams</td>\n",
       "      <td>67.898458</td>\n",
       "      <td>65.635772</td>\n",
       "      <td>66.597306</td>\n",
       "      <td>67.898458</td>\n",
       "    </tr>\n",
       "    <tr>\n",
       "      <th>0</th>\n",
       "      <td>RandomForestClassifier</td>\n",
       "      <td>N-grams</td>\n",
       "      <td>69.955013</td>\n",
       "      <td>70.267838</td>\n",
       "      <td>60.464038</td>\n",
       "      <td>69.955013</td>\n",
       "    </tr>\n",
       "    <tr>\n",
       "      <th>0</th>\n",
       "      <td>AdaBoostClassifier</td>\n",
       "      <td>N-grams</td>\n",
       "      <td>75.514139</td>\n",
       "      <td>72.184075</td>\n",
       "      <td>72.848937</td>\n",
       "      <td>75.514139</td>\n",
       "    </tr>\n",
       "    <tr>\n",
       "      <th>0</th>\n",
       "      <td>GradientBoostingClassifier</td>\n",
       "      <td>N-grams</td>\n",
       "      <td>75.803342</td>\n",
       "      <td>73.246410</td>\n",
       "      <td>71.560185</td>\n",
       "      <td>75.803342</td>\n",
       "    </tr>\n",
       "    <tr>\n",
       "      <th>0</th>\n",
       "      <td>MultinomialNB</td>\n",
       "      <td>N-grams</td>\n",
       "      <td>70.179949</td>\n",
       "      <td>72.995934</td>\n",
       "      <td>60.856775</td>\n",
       "      <td>70.179949</td>\n",
       "    </tr>\n",
       "    <tr>\n",
       "      <th>0</th>\n",
       "      <td>BernoulliNB</td>\n",
       "      <td>N-grams</td>\n",
       "      <td>66.227506</td>\n",
       "      <td>63.497022</td>\n",
       "      <td>53.271156</td>\n",
       "      <td>66.227506</td>\n",
       "    </tr>\n",
       "  </tbody>\n",
       "</table>\n",
       "</div>"
      ],
      "text/plain": [
       "                   Classifier  Methods   Accuracy  Precision         F1  \\\n",
       "0          LogisticRegression  N-grams  80.719794  78.523627  79.073483   \n",
       "0        KNeighborsClassifier  N-grams  66.613111  64.372208  55.067062   \n",
       "0      DecisionTreeClassifier  N-grams  67.898458  65.635772  66.597306   \n",
       "0      RandomForestClassifier  N-grams  69.955013  70.267838  60.464038   \n",
       "0          AdaBoostClassifier  N-grams  75.514139  72.184075  72.848937   \n",
       "0  GradientBoostingClassifier  N-grams  75.803342  73.246410  71.560185   \n",
       "0               MultinomialNB  N-grams  70.179949  72.995934  60.856775   \n",
       "0                 BernoulliNB  N-grams  66.227506  63.497022  53.271156   \n",
       "\n",
       "      Recall  \n",
       "0  80.719794  \n",
       "0  66.613111  \n",
       "0  67.898458  \n",
       "0  69.955013  \n",
       "0  75.514139  \n",
       "0  75.803342  \n",
       "0  70.179949  \n",
       "0  66.227506  "
      ]
     },
     "execution_count": 136,
     "metadata": {},
     "output_type": "execute_result"
    }
   ],
   "source": [
    "classifiers=[\n",
    "    LogisticRegression(),\n",
    "    KNeighborsClassifier(3),\n",
    "    DecisionTreeClassifier(),\n",
    "    RandomForestClassifier(),\n",
    "    AdaBoostClassifier(),\n",
    "    GradientBoostingClassifier(),\n",
    "    MultinomialNB(),\n",
    "    BernoulliNB()\n",
    "]\n",
    "\n",
    "cvec2_col=['Classifier','Methods','Accuracy','Precision','F1','Recall']\n",
    "cvec2=pd.DataFrame(columns=cvec2_col)\n",
    "\n",
    "for i in classifiers:\n",
    "    pred2=i.fit(X_train_vec2,y_train).predict(X_test_vec2)\n",
    "    name = i.__class__.__name__\n",
    "    #Yukarıda tanımladığımız modelleri sırasıyla çağıracağız ve isminide tabloya bu kod ile ekliyoruz.\n",
    "    \n",
    "    accuracy=accuracy_score(y_test,pred2)\n",
    "    precision=precision_score(y_test,pred2,average='weighted')\n",
    "    f1=f1_score(y_test,pred2,average='weighted')\n",
    "    recall=recall_score(y_test,pred2,average='weighted')\n",
    "\n",
    "    cvec2_entry=pd.DataFrame([[name,'N-grams',accuracy*100,precision*100,f1*100,recall*100]],columns=cvec2_col)\n",
    "    #score ları 100 ile çarpmamın sebebi , yüzde başarı oranının daha net görülebilmesi\n",
    "    cvec2=cvec2.append(cvec2_entry)\n",
    "\n",
    "cvec2"
   ]
  },
  {
   "cell_type": "markdown",
   "metadata": {},
   "source": [
    "## TF-IDF"
   ]
  },
  {
   "cell_type": "code",
   "execution_count": 137,
   "metadata": {},
   "outputs": [],
   "source": [
    "tf1=TfidfVectorizer(stop_words='english')\n",
    "X_train_tf1=tf1.fit_transform(X_train)\n",
    "X_test_tf1=tf1.transform(X_test)\n",
    "\n",
    "tf2=TfidfVectorizer(ngram_range=(1,2),stop_words='english',binary=True)\n",
    "X_train_tf2=tf2.fit_transform(X_train)\n",
    "X_test_tf2=tf2.transform(X_test)"
   ]
  },
  {
   "cell_type": "code",
   "execution_count": 138,
   "metadata": {},
   "outputs": [
    {
     "data": {
      "text/html": [
       "<div>\n",
       "<style scoped>\n",
       "    .dataframe tbody tr th:only-of-type {\n",
       "        vertical-align: middle;\n",
       "    }\n",
       "\n",
       "    .dataframe tbody tr th {\n",
       "        vertical-align: top;\n",
       "    }\n",
       "\n",
       "    .dataframe thead th {\n",
       "        text-align: right;\n",
       "    }\n",
       "</style>\n",
       "<table border=\"1\" class=\"dataframe\">\n",
       "  <thead>\n",
       "    <tr style=\"text-align: right;\">\n",
       "      <th></th>\n",
       "      <th>Classifier</th>\n",
       "      <th>Methods</th>\n",
       "      <th>Accuracy</th>\n",
       "      <th>Precision</th>\n",
       "      <th>F1</th>\n",
       "      <th>Recall</th>\n",
       "    </tr>\n",
       "  </thead>\n",
       "  <tbody>\n",
       "    <tr>\n",
       "      <th>0</th>\n",
       "      <td>LogisticRegression</td>\n",
       "      <td>T-IDF</td>\n",
       "      <td>80.462725</td>\n",
       "      <td>77.772244</td>\n",
       "      <td>77.840517</td>\n",
       "      <td>80.462725</td>\n",
       "    </tr>\n",
       "    <tr>\n",
       "      <th>0</th>\n",
       "      <td>KNeighborsClassifier</td>\n",
       "      <td>T-IDF</td>\n",
       "      <td>70.661954</td>\n",
       "      <td>65.857606</td>\n",
       "      <td>67.207396</td>\n",
       "      <td>70.661954</td>\n",
       "    </tr>\n",
       "    <tr>\n",
       "      <th>0</th>\n",
       "      <td>DecisionTreeClassifier</td>\n",
       "      <td>T-IDF</td>\n",
       "      <td>66.259640</td>\n",
       "      <td>65.061299</td>\n",
       "      <td>65.611764</td>\n",
       "      <td>66.259640</td>\n",
       "    </tr>\n",
       "    <tr>\n",
       "      <th>0</th>\n",
       "      <td>RandomForestClassifier</td>\n",
       "      <td>T-IDF</td>\n",
       "      <td>72.461440</td>\n",
       "      <td>69.296534</td>\n",
       "      <td>64.538816</td>\n",
       "      <td>72.461440</td>\n",
       "    </tr>\n",
       "    <tr>\n",
       "      <th>0</th>\n",
       "      <td>AdaBoostClassifier</td>\n",
       "      <td>T-IDF</td>\n",
       "      <td>75.224936</td>\n",
       "      <td>72.320137</td>\n",
       "      <td>73.158018</td>\n",
       "      <td>75.224936</td>\n",
       "    </tr>\n",
       "    <tr>\n",
       "      <th>0</th>\n",
       "      <td>GradientBoostingClassifier</td>\n",
       "      <td>T-IDF</td>\n",
       "      <td>75.224936</td>\n",
       "      <td>72.310009</td>\n",
       "      <td>71.249580</td>\n",
       "      <td>75.224936</td>\n",
       "    </tr>\n",
       "    <tr>\n",
       "      <th>0</th>\n",
       "      <td>MultinomialNB</td>\n",
       "      <td>T-IDF</td>\n",
       "      <td>66.259640</td>\n",
       "      <td>62.356378</td>\n",
       "      <td>53.168077</td>\n",
       "      <td>66.259640</td>\n",
       "    </tr>\n",
       "    <tr>\n",
       "      <th>0</th>\n",
       "      <td>BernoulliNB</td>\n",
       "      <td>T-IDF</td>\n",
       "      <td>70.533419</td>\n",
       "      <td>68.714367</td>\n",
       "      <td>67.764180</td>\n",
       "      <td>70.533419</td>\n",
       "    </tr>\n",
       "  </tbody>\n",
       "</table>\n",
       "</div>"
      ],
      "text/plain": [
       "                   Classifier Methods   Accuracy  Precision         F1  \\\n",
       "0          LogisticRegression   T-IDF  80.462725  77.772244  77.840517   \n",
       "0        KNeighborsClassifier   T-IDF  70.661954  65.857606  67.207396   \n",
       "0      DecisionTreeClassifier   T-IDF  66.259640  65.061299  65.611764   \n",
       "0      RandomForestClassifier   T-IDF  72.461440  69.296534  64.538816   \n",
       "0          AdaBoostClassifier   T-IDF  75.224936  72.320137  73.158018   \n",
       "0  GradientBoostingClassifier   T-IDF  75.224936  72.310009  71.249580   \n",
       "0               MultinomialNB   T-IDF  66.259640  62.356378  53.168077   \n",
       "0                 BernoulliNB   T-IDF  70.533419  68.714367  67.764180   \n",
       "\n",
       "      Recall  \n",
       "0  80.462725  \n",
       "0  70.661954  \n",
       "0  66.259640  \n",
       "0  72.461440  \n",
       "0  75.224936  \n",
       "0  75.224936  \n",
       "0  66.259640  \n",
       "0  70.533419  "
      ]
     },
     "execution_count": 138,
     "metadata": {},
     "output_type": "execute_result"
    }
   ],
   "source": [
    "classifiers=[\n",
    "    LogisticRegression(),\n",
    "    KNeighborsClassifier(3),\n",
    "    DecisionTreeClassifier(),\n",
    "    RandomForestClassifier(),\n",
    "    AdaBoostClassifier(),\n",
    "    GradientBoostingClassifier(),\n",
    "    MultinomialNB(),\n",
    "    BernoulliNB()\n",
    "]\n",
    "\n",
    "tf1_col=['Classifier','Methods','Accuracy','Precision','F1','Recall']\n",
    "tf1=pd.DataFrame(columns=tf1_col)\n",
    "\n",
    "for i in classifiers:\n",
    "    pred_tf1=i.fit(X_train_tf1,y_train).predict(X_test_tf1)\n",
    "    name = i.__class__.__name__\n",
    "    #Yukarıda tanımladığımız modelleri sırasıyla çağıracağız ve isminide tabloya bu kod ile ekliyoruz.\n",
    "    \n",
    "    accuracy=accuracy_score(y_test,pred_tf1)\n",
    "    precision=precision_score(y_test,pred_tf1,average='weighted')\n",
    "    f1=f1_score(y_test,pred_tf1,average='weighted')\n",
    "    recall=recall_score(y_test,pred_tf1,average='weighted')\n",
    "\n",
    "    tf1_entry=pd.DataFrame([[name,'T-IDF',accuracy*100,precision*100,f1*100,recall*100]],columns=tf1_col)\n",
    "    #score ları 100 ile çarpmamın sebebi , yüzde başarı oranının daha net görülebilmesi\n",
    "    tf1=tf1.append(tf1_entry)\n",
    "\n",
    "tf1"
   ]
  },
  {
   "cell_type": "code",
   "execution_count": 140,
   "metadata": {},
   "outputs": [
    {
     "data": {
      "text/html": [
       "<div>\n",
       "<style scoped>\n",
       "    .dataframe tbody tr th:only-of-type {\n",
       "        vertical-align: middle;\n",
       "    }\n",
       "\n",
       "    .dataframe tbody tr th {\n",
       "        vertical-align: top;\n",
       "    }\n",
       "\n",
       "    .dataframe thead th {\n",
       "        text-align: right;\n",
       "    }\n",
       "</style>\n",
       "<table border=\"1\" class=\"dataframe\">\n",
       "  <thead>\n",
       "    <tr style=\"text-align: right;\">\n",
       "      <th></th>\n",
       "      <th>Classifier</th>\n",
       "      <th>Methods</th>\n",
       "      <th>Accuracy</th>\n",
       "      <th>Precision</th>\n",
       "      <th>F1</th>\n",
       "      <th>Recall</th>\n",
       "    </tr>\n",
       "  </thead>\n",
       "  <tbody>\n",
       "    <tr>\n",
       "      <th>0</th>\n",
       "      <td>LogisticRegression</td>\n",
       "      <td>T-IDF/N-gram</td>\n",
       "      <td>78.502571</td>\n",
       "      <td>75.823752</td>\n",
       "      <td>74.033614</td>\n",
       "      <td>78.502571</td>\n",
       "    </tr>\n",
       "    <tr>\n",
       "      <th>0</th>\n",
       "      <td>KNeighborsClassifier</td>\n",
       "      <td>T-IDF/N-gram</td>\n",
       "      <td>72.011568</td>\n",
       "      <td>66.843209</td>\n",
       "      <td>67.639153</td>\n",
       "      <td>72.011568</td>\n",
       "    </tr>\n",
       "    <tr>\n",
       "      <th>0</th>\n",
       "      <td>DecisionTreeClassifier</td>\n",
       "      <td>T-IDF/N-gram</td>\n",
       "      <td>65.809769</td>\n",
       "      <td>65.809449</td>\n",
       "      <td>65.808738</td>\n",
       "      <td>65.809769</td>\n",
       "    </tr>\n",
       "    <tr>\n",
       "      <th>0</th>\n",
       "      <td>RandomForestClassifier</td>\n",
       "      <td>T-IDF/N-gram</td>\n",
       "      <td>70.854756</td>\n",
       "      <td>72.843916</td>\n",
       "      <td>61.945189</td>\n",
       "      <td>70.854756</td>\n",
       "    </tr>\n",
       "    <tr>\n",
       "      <th>0</th>\n",
       "      <td>AdaBoostClassifier</td>\n",
       "      <td>T-IDF/N-gram</td>\n",
       "      <td>75.449871</td>\n",
       "      <td>72.640070</td>\n",
       "      <td>73.365161</td>\n",
       "      <td>75.449871</td>\n",
       "    </tr>\n",
       "    <tr>\n",
       "      <th>0</th>\n",
       "      <td>GradientBoostingClassifier</td>\n",
       "      <td>T-IDF/N-gram</td>\n",
       "      <td>76.928021</td>\n",
       "      <td>74.563718</td>\n",
       "      <td>73.816545</td>\n",
       "      <td>76.928021</td>\n",
       "    </tr>\n",
       "    <tr>\n",
       "      <th>0</th>\n",
       "      <td>MultinomialNB</td>\n",
       "      <td>T-IDF/N-gram</td>\n",
       "      <td>65.906170</td>\n",
       "      <td>43.436232</td>\n",
       "      <td>52.362407</td>\n",
       "      <td>65.906170</td>\n",
       "    </tr>\n",
       "    <tr>\n",
       "      <th>0</th>\n",
       "      <td>BernoulliNB</td>\n",
       "      <td>T-IDF/N-gram</td>\n",
       "      <td>66.227506</td>\n",
       "      <td>63.497022</td>\n",
       "      <td>53.271156</td>\n",
       "      <td>66.227506</td>\n",
       "    </tr>\n",
       "  </tbody>\n",
       "</table>\n",
       "</div>"
      ],
      "text/plain": [
       "                   Classifier       Methods   Accuracy  Precision         F1  \\\n",
       "0          LogisticRegression  T-IDF/N-gram  78.502571  75.823752  74.033614   \n",
       "0        KNeighborsClassifier  T-IDF/N-gram  72.011568  66.843209  67.639153   \n",
       "0      DecisionTreeClassifier  T-IDF/N-gram  65.809769  65.809449  65.808738   \n",
       "0      RandomForestClassifier  T-IDF/N-gram  70.854756  72.843916  61.945189   \n",
       "0          AdaBoostClassifier  T-IDF/N-gram  75.449871  72.640070  73.365161   \n",
       "0  GradientBoostingClassifier  T-IDF/N-gram  76.928021  74.563718  73.816545   \n",
       "0               MultinomialNB  T-IDF/N-gram  65.906170  43.436232  52.362407   \n",
       "0                 BernoulliNB  T-IDF/N-gram  66.227506  63.497022  53.271156   \n",
       "\n",
       "      Recall  \n",
       "0  78.502571  \n",
       "0  72.011568  \n",
       "0  65.809769  \n",
       "0  70.854756  \n",
       "0  75.449871  \n",
       "0  76.928021  \n",
       "0  65.906170  \n",
       "0  66.227506  "
      ]
     },
     "execution_count": 140,
     "metadata": {},
     "output_type": "execute_result"
    }
   ],
   "source": [
    "classifiers=[\n",
    "    LogisticRegression(),\n",
    "    KNeighborsClassifier(3),\n",
    "    DecisionTreeClassifier(),\n",
    "    RandomForestClassifier(),\n",
    "    AdaBoostClassifier(),\n",
    "    GradientBoostingClassifier(),\n",
    "    MultinomialNB(),\n",
    "    BernoulliNB()\n",
    "]\n",
    "\n",
    "tf2_col=['Classifier','Methods','Accuracy','Precision','F1','Recall']\n",
    "tf2=pd.DataFrame(columns=tf2_col)\n",
    "\n",
    "for i in classifiers:\n",
    "    pred_tf2=i.fit(X_train_tf2,y_train).predict(X_test_tf2)\n",
    "    name = i.__class__.__name__\n",
    "    #Yukarıda tanımladığımız modelleri sırasıyla çağıracağız ve isminide tabloya bu kod ile ekliyoruz.\n",
    "    \n",
    "    accuracy=accuracy_score(y_test,pred_tf2)\n",
    "    precision=precision_score(y_test,pred_tf2,average='weighted')\n",
    "    f1=f1_score(y_test,pred_tf2,average='weighted')\n",
    "    recall=recall_score(y_test,pred_tf2,average='weighted')\n",
    "\n",
    "    tf2_entry=pd.DataFrame([[name,'T-IDF/N-gram',accuracy*100,precision*100,f1*100,recall*100]],columns=tf2_col)\n",
    "    #score ları 100 ile çarpmamın sebebi , yüzde başarı oranının daha net görülebilmesi\n",
    "    tf2=tf2.append(tf2_entry)\n",
    "\n",
    "tf2"
   ]
  },
  {
   "cell_type": "markdown",
   "metadata": {},
   "source": [
    "- pd.concat ile tabloları birleştiriyoruz. axis=0 dememizin nedeni sadece satırları birleştiriyoruz."
   ]
  },
  {
   "cell_type": "code",
   "execution_count": 142,
   "metadata": {},
   "outputs": [
    {
     "data": {
      "text/html": [
       "<div>\n",
       "<style scoped>\n",
       "    .dataframe tbody tr th:only-of-type {\n",
       "        vertical-align: middle;\n",
       "    }\n",
       "\n",
       "    .dataframe tbody tr th {\n",
       "        vertical-align: top;\n",
       "    }\n",
       "\n",
       "    .dataframe thead th {\n",
       "        text-align: right;\n",
       "    }\n",
       "</style>\n",
       "<table border=\"1\" class=\"dataframe\">\n",
       "  <thead>\n",
       "    <tr style=\"text-align: right;\">\n",
       "      <th></th>\n",
       "      <th>Classifier</th>\n",
       "      <th>Methods</th>\n",
       "      <th>Accuracy</th>\n",
       "      <th>Precision</th>\n",
       "      <th>F1</th>\n",
       "      <th>Recall</th>\n",
       "    </tr>\n",
       "  </thead>\n",
       "  <tbody>\n",
       "    <tr>\n",
       "      <th>0</th>\n",
       "      <td>LogisticRegression</td>\n",
       "      <td>CountVectorizer</td>\n",
       "      <td>78.534704</td>\n",
       "      <td>77.178665</td>\n",
       "      <td>77.743009</td>\n",
       "      <td>78.534704</td>\n",
       "    </tr>\n",
       "    <tr>\n",
       "      <th>0</th>\n",
       "      <td>KNeighborsClassifier</td>\n",
       "      <td>CountVectorizer</td>\n",
       "      <td>66.998715</td>\n",
       "      <td>58.651159</td>\n",
       "      <td>59.916724</td>\n",
       "      <td>66.998715</td>\n",
       "    </tr>\n",
       "    <tr>\n",
       "      <th>0</th>\n",
       "      <td>DecisionTreeClassifier</td>\n",
       "      <td>CountVectorizer</td>\n",
       "      <td>66.516710</td>\n",
       "      <td>64.982161</td>\n",
       "      <td>65.679950</td>\n",
       "      <td>66.516710</td>\n",
       "    </tr>\n",
       "    <tr>\n",
       "      <th>0</th>\n",
       "      <td>RandomForestClassifier</td>\n",
       "      <td>CountVectorizer</td>\n",
       "      <td>73.200514</td>\n",
       "      <td>71.521209</td>\n",
       "      <td>65.411598</td>\n",
       "      <td>73.200514</td>\n",
       "    </tr>\n",
       "    <tr>\n",
       "      <th>0</th>\n",
       "      <td>AdaBoostClassifier</td>\n",
       "      <td>CountVectorizer</td>\n",
       "      <td>76.413882</td>\n",
       "      <td>73.119751</td>\n",
       "      <td>73.678480</td>\n",
       "      <td>76.413882</td>\n",
       "    </tr>\n",
       "    <tr>\n",
       "      <th>0</th>\n",
       "      <td>GradientBoostingClassifier</td>\n",
       "      <td>CountVectorizer</td>\n",
       "      <td>75.739075</td>\n",
       "      <td>73.121759</td>\n",
       "      <td>71.613800</td>\n",
       "      <td>75.739075</td>\n",
       "    </tr>\n",
       "    <tr>\n",
       "      <th>0</th>\n",
       "      <td>MultinomialNB</td>\n",
       "      <td>CountVectorizer</td>\n",
       "      <td>78.309769</td>\n",
       "      <td>74.477813</td>\n",
       "      <td>74.693401</td>\n",
       "      <td>78.309769</td>\n",
       "    </tr>\n",
       "    <tr>\n",
       "      <th>0</th>\n",
       "      <td>BernoulliNB</td>\n",
       "      <td>CountVectorizer</td>\n",
       "      <td>70.533419</td>\n",
       "      <td>68.714367</td>\n",
       "      <td>67.764180</td>\n",
       "      <td>70.533419</td>\n",
       "    </tr>\n",
       "    <tr>\n",
       "      <th>0</th>\n",
       "      <td>LogisticRegression</td>\n",
       "      <td>N-grams</td>\n",
       "      <td>80.719794</td>\n",
       "      <td>78.523627</td>\n",
       "      <td>79.073483</td>\n",
       "      <td>80.719794</td>\n",
       "    </tr>\n",
       "    <tr>\n",
       "      <th>0</th>\n",
       "      <td>KNeighborsClassifier</td>\n",
       "      <td>N-grams</td>\n",
       "      <td>66.613111</td>\n",
       "      <td>64.372208</td>\n",
       "      <td>55.067062</td>\n",
       "      <td>66.613111</td>\n",
       "    </tr>\n",
       "    <tr>\n",
       "      <th>0</th>\n",
       "      <td>DecisionTreeClassifier</td>\n",
       "      <td>N-grams</td>\n",
       "      <td>67.898458</td>\n",
       "      <td>65.635772</td>\n",
       "      <td>66.597306</td>\n",
       "      <td>67.898458</td>\n",
       "    </tr>\n",
       "    <tr>\n",
       "      <th>0</th>\n",
       "      <td>RandomForestClassifier</td>\n",
       "      <td>N-grams</td>\n",
       "      <td>69.955013</td>\n",
       "      <td>70.267838</td>\n",
       "      <td>60.464038</td>\n",
       "      <td>69.955013</td>\n",
       "    </tr>\n",
       "    <tr>\n",
       "      <th>0</th>\n",
       "      <td>AdaBoostClassifier</td>\n",
       "      <td>N-grams</td>\n",
       "      <td>75.514139</td>\n",
       "      <td>72.184075</td>\n",
       "      <td>72.848937</td>\n",
       "      <td>75.514139</td>\n",
       "    </tr>\n",
       "    <tr>\n",
       "      <th>0</th>\n",
       "      <td>GradientBoostingClassifier</td>\n",
       "      <td>N-grams</td>\n",
       "      <td>75.803342</td>\n",
       "      <td>73.246410</td>\n",
       "      <td>71.560185</td>\n",
       "      <td>75.803342</td>\n",
       "    </tr>\n",
       "    <tr>\n",
       "      <th>0</th>\n",
       "      <td>MultinomialNB</td>\n",
       "      <td>N-grams</td>\n",
       "      <td>70.179949</td>\n",
       "      <td>72.995934</td>\n",
       "      <td>60.856775</td>\n",
       "      <td>70.179949</td>\n",
       "    </tr>\n",
       "    <tr>\n",
       "      <th>0</th>\n",
       "      <td>BernoulliNB</td>\n",
       "      <td>N-grams</td>\n",
       "      <td>66.227506</td>\n",
       "      <td>63.497022</td>\n",
       "      <td>53.271156</td>\n",
       "      <td>66.227506</td>\n",
       "    </tr>\n",
       "    <tr>\n",
       "      <th>0</th>\n",
       "      <td>LogisticRegression</td>\n",
       "      <td>T-IDF</td>\n",
       "      <td>80.462725</td>\n",
       "      <td>77.772244</td>\n",
       "      <td>77.840517</td>\n",
       "      <td>80.462725</td>\n",
       "    </tr>\n",
       "    <tr>\n",
       "      <th>0</th>\n",
       "      <td>KNeighborsClassifier</td>\n",
       "      <td>T-IDF</td>\n",
       "      <td>70.661954</td>\n",
       "      <td>65.857606</td>\n",
       "      <td>67.207396</td>\n",
       "      <td>70.661954</td>\n",
       "    </tr>\n",
       "    <tr>\n",
       "      <th>0</th>\n",
       "      <td>DecisionTreeClassifier</td>\n",
       "      <td>T-IDF</td>\n",
       "      <td>66.259640</td>\n",
       "      <td>65.061299</td>\n",
       "      <td>65.611764</td>\n",
       "      <td>66.259640</td>\n",
       "    </tr>\n",
       "    <tr>\n",
       "      <th>0</th>\n",
       "      <td>RandomForestClassifier</td>\n",
       "      <td>T-IDF</td>\n",
       "      <td>72.461440</td>\n",
       "      <td>69.296534</td>\n",
       "      <td>64.538816</td>\n",
       "      <td>72.461440</td>\n",
       "    </tr>\n",
       "    <tr>\n",
       "      <th>0</th>\n",
       "      <td>AdaBoostClassifier</td>\n",
       "      <td>T-IDF</td>\n",
       "      <td>75.224936</td>\n",
       "      <td>72.320137</td>\n",
       "      <td>73.158018</td>\n",
       "      <td>75.224936</td>\n",
       "    </tr>\n",
       "    <tr>\n",
       "      <th>0</th>\n",
       "      <td>GradientBoostingClassifier</td>\n",
       "      <td>T-IDF</td>\n",
       "      <td>75.224936</td>\n",
       "      <td>72.310009</td>\n",
       "      <td>71.249580</td>\n",
       "      <td>75.224936</td>\n",
       "    </tr>\n",
       "    <tr>\n",
       "      <th>0</th>\n",
       "      <td>MultinomialNB</td>\n",
       "      <td>T-IDF</td>\n",
       "      <td>66.259640</td>\n",
       "      <td>62.356378</td>\n",
       "      <td>53.168077</td>\n",
       "      <td>66.259640</td>\n",
       "    </tr>\n",
       "    <tr>\n",
       "      <th>0</th>\n",
       "      <td>BernoulliNB</td>\n",
       "      <td>T-IDF</td>\n",
       "      <td>70.533419</td>\n",
       "      <td>68.714367</td>\n",
       "      <td>67.764180</td>\n",
       "      <td>70.533419</td>\n",
       "    </tr>\n",
       "    <tr>\n",
       "      <th>0</th>\n",
       "      <td>LogisticRegression</td>\n",
       "      <td>T-IDF/N-gram</td>\n",
       "      <td>78.502571</td>\n",
       "      <td>75.823752</td>\n",
       "      <td>74.033614</td>\n",
       "      <td>78.502571</td>\n",
       "    </tr>\n",
       "    <tr>\n",
       "      <th>0</th>\n",
       "      <td>KNeighborsClassifier</td>\n",
       "      <td>T-IDF/N-gram</td>\n",
       "      <td>72.011568</td>\n",
       "      <td>66.843209</td>\n",
       "      <td>67.639153</td>\n",
       "      <td>72.011568</td>\n",
       "    </tr>\n",
       "    <tr>\n",
       "      <th>0</th>\n",
       "      <td>DecisionTreeClassifier</td>\n",
       "      <td>T-IDF/N-gram</td>\n",
       "      <td>65.809769</td>\n",
       "      <td>65.809449</td>\n",
       "      <td>65.808738</td>\n",
       "      <td>65.809769</td>\n",
       "    </tr>\n",
       "    <tr>\n",
       "      <th>0</th>\n",
       "      <td>RandomForestClassifier</td>\n",
       "      <td>T-IDF/N-gram</td>\n",
       "      <td>70.854756</td>\n",
       "      <td>72.843916</td>\n",
       "      <td>61.945189</td>\n",
       "      <td>70.854756</td>\n",
       "    </tr>\n",
       "    <tr>\n",
       "      <th>0</th>\n",
       "      <td>AdaBoostClassifier</td>\n",
       "      <td>T-IDF/N-gram</td>\n",
       "      <td>75.449871</td>\n",
       "      <td>72.640070</td>\n",
       "      <td>73.365161</td>\n",
       "      <td>75.449871</td>\n",
       "    </tr>\n",
       "    <tr>\n",
       "      <th>0</th>\n",
       "      <td>GradientBoostingClassifier</td>\n",
       "      <td>T-IDF/N-gram</td>\n",
       "      <td>76.928021</td>\n",
       "      <td>74.563718</td>\n",
       "      <td>73.816545</td>\n",
       "      <td>76.928021</td>\n",
       "    </tr>\n",
       "    <tr>\n",
       "      <th>0</th>\n",
       "      <td>MultinomialNB</td>\n",
       "      <td>T-IDF/N-gram</td>\n",
       "      <td>65.906170</td>\n",
       "      <td>43.436232</td>\n",
       "      <td>52.362407</td>\n",
       "      <td>65.906170</td>\n",
       "    </tr>\n",
       "    <tr>\n",
       "      <th>0</th>\n",
       "      <td>BernoulliNB</td>\n",
       "      <td>T-IDF/N-gram</td>\n",
       "      <td>66.227506</td>\n",
       "      <td>63.497022</td>\n",
       "      <td>53.271156</td>\n",
       "      <td>66.227506</td>\n",
       "    </tr>\n",
       "  </tbody>\n",
       "</table>\n",
       "</div>"
      ],
      "text/plain": [
       "                   Classifier          Methods   Accuracy  Precision  \\\n",
       "0          LogisticRegression  CountVectorizer  78.534704  77.178665   \n",
       "0        KNeighborsClassifier  CountVectorizer  66.998715  58.651159   \n",
       "0      DecisionTreeClassifier  CountVectorizer  66.516710  64.982161   \n",
       "0      RandomForestClassifier  CountVectorizer  73.200514  71.521209   \n",
       "0          AdaBoostClassifier  CountVectorizer  76.413882  73.119751   \n",
       "0  GradientBoostingClassifier  CountVectorizer  75.739075  73.121759   \n",
       "0               MultinomialNB  CountVectorizer  78.309769  74.477813   \n",
       "0                 BernoulliNB  CountVectorizer  70.533419  68.714367   \n",
       "0          LogisticRegression          N-grams  80.719794  78.523627   \n",
       "0        KNeighborsClassifier          N-grams  66.613111  64.372208   \n",
       "0      DecisionTreeClassifier          N-grams  67.898458  65.635772   \n",
       "0      RandomForestClassifier          N-grams  69.955013  70.267838   \n",
       "0          AdaBoostClassifier          N-grams  75.514139  72.184075   \n",
       "0  GradientBoostingClassifier          N-grams  75.803342  73.246410   \n",
       "0               MultinomialNB          N-grams  70.179949  72.995934   \n",
       "0                 BernoulliNB          N-grams  66.227506  63.497022   \n",
       "0          LogisticRegression            T-IDF  80.462725  77.772244   \n",
       "0        KNeighborsClassifier            T-IDF  70.661954  65.857606   \n",
       "0      DecisionTreeClassifier            T-IDF  66.259640  65.061299   \n",
       "0      RandomForestClassifier            T-IDF  72.461440  69.296534   \n",
       "0          AdaBoostClassifier            T-IDF  75.224936  72.320137   \n",
       "0  GradientBoostingClassifier            T-IDF  75.224936  72.310009   \n",
       "0               MultinomialNB            T-IDF  66.259640  62.356378   \n",
       "0                 BernoulliNB            T-IDF  70.533419  68.714367   \n",
       "0          LogisticRegression     T-IDF/N-gram  78.502571  75.823752   \n",
       "0        KNeighborsClassifier     T-IDF/N-gram  72.011568  66.843209   \n",
       "0      DecisionTreeClassifier     T-IDF/N-gram  65.809769  65.809449   \n",
       "0      RandomForestClassifier     T-IDF/N-gram  70.854756  72.843916   \n",
       "0          AdaBoostClassifier     T-IDF/N-gram  75.449871  72.640070   \n",
       "0  GradientBoostingClassifier     T-IDF/N-gram  76.928021  74.563718   \n",
       "0               MultinomialNB     T-IDF/N-gram  65.906170  43.436232   \n",
       "0                 BernoulliNB     T-IDF/N-gram  66.227506  63.497022   \n",
       "\n",
       "          F1     Recall  \n",
       "0  77.743009  78.534704  \n",
       "0  59.916724  66.998715  \n",
       "0  65.679950  66.516710  \n",
       "0  65.411598  73.200514  \n",
       "0  73.678480  76.413882  \n",
       "0  71.613800  75.739075  \n",
       "0  74.693401  78.309769  \n",
       "0  67.764180  70.533419  \n",
       "0  79.073483  80.719794  \n",
       "0  55.067062  66.613111  \n",
       "0  66.597306  67.898458  \n",
       "0  60.464038  69.955013  \n",
       "0  72.848937  75.514139  \n",
       "0  71.560185  75.803342  \n",
       "0  60.856775  70.179949  \n",
       "0  53.271156  66.227506  \n",
       "0  77.840517  80.462725  \n",
       "0  67.207396  70.661954  \n",
       "0  65.611764  66.259640  \n",
       "0  64.538816  72.461440  \n",
       "0  73.158018  75.224936  \n",
       "0  71.249580  75.224936  \n",
       "0  53.168077  66.259640  \n",
       "0  67.764180  70.533419  \n",
       "0  74.033614  78.502571  \n",
       "0  67.639153  72.011568  \n",
       "0  65.808738  65.809769  \n",
       "0  61.945189  70.854756  \n",
       "0  73.365161  75.449871  \n",
       "0  73.816545  76.928021  \n",
       "0  52.362407  65.906170  \n",
       "0  53.271156  66.227506  "
      ]
     },
     "execution_count": 142,
     "metadata": {},
     "output_type": "execute_result"
    }
   ],
   "source": [
    "result=pd.concat([cvec,cvec2,tf1,tf2],axis=0)\n",
    "result"
   ]
  },
  {
   "cell_type": "code",
   "execution_count": null,
   "metadata": {},
   "outputs": [],
   "source": []
  }
 ],
 "metadata": {
  "kernelspec": {
   "display_name": "Python 3",
   "language": "python",
   "name": "python3"
  },
  "language_info": {
   "codemirror_mode": {
    "name": "ipython",
    "version": 3
   },
   "file_extension": ".py",
   "mimetype": "text/x-python",
   "name": "python",
   "nbconvert_exporter": "python",
   "pygments_lexer": "ipython3",
   "version": "3.8.5"
  }
 },
 "nbformat": 4,
 "nbformat_minor": 4
}
